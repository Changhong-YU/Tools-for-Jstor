{
 "cells": [
  {
   "cell_type": "markdown",
   "id": "f912ea59-6579-45de-bbaf-a5fb00aa80bd",
   "metadata": {},
   "source": [
    "# 一、导入需要使用的库"
   ]
  },
  {
   "cell_type": "code",
   "execution_count": 1,
   "id": "9afc45c6-fb0a-4263-96c8-fb9a43ee4bc5",
   "metadata": {},
   "outputs": [],
   "source": [
    "import requests\n",
    "import pandas as pd\n",
    "from bs4 import BeautifulSoup\n",
    "import urllib\n",
    "import os,sys\n",
    "import langid\n",
    "from selenium import webdriver\n",
    "from selenium.webdriver.common.keys import Keys\n",
    "import time\n",
    "import importlib\n",
    "import numpy as np\n",
    "\n",
    "def flushPrint(s):\n",
    "    sys.stdout.write('\\r')\n",
    "    sys.stdout.write('%s' % s)\n",
    "    sys.stdout.flush()\n",
    "\n",
    "from pdfminer.pdfparser import PDFParser\n",
    "from pdfminer.pdfdocument import PDFDocument\n",
    "from pdfminer.pdfinterp import PDFResourceManager, PDFPageInterpreter\n",
    "from pdfminer.converter import PDFPageAggregator\n",
    "from pdfminer.layout import LTTextBoxHorizontal, LAParams\n",
    "from pdfminer.pdfpage import PDFTextExtractionNotAllowed\n",
    "from pdfminer.pdfpage import PDFPage"
   ]
  },
  {
   "cell_type": "markdown",
   "id": "10c8ca7d-b552-4e66-a840-4bd099bc078e",
   "metadata": {},
   "source": [
    "### step2-2:从sci-hub上批量下载所有需要的文献"
   ]
  },
  {
   "cell_type": "code",
   "execution_count": 19,
   "id": "0288fe2d-fb2d-437b-9a9f-b1eaad21e002",
   "metadata": {},
   "outputs": [],
   "source": [
    "#设定下载地址\n",
    "options=webdriver.ChromeOptions()\n",
    "out_path=\"/Users/yanglulin/Documents/本科学习生活/三春夏/4-计算文本分析/考核相关/大作业相关/PaperDownload/papers\"\n",
    "prefs={'profile.default_content_settings.popups': 0, 'download.default_directory': out_path}\n",
    "options.add_experimental_option('prefs', prefs)"
   ]
  },
  {
   "cell_type": "code",
   "execution_count": 5,
   "id": "060a592b-0d4e-499e-b361-e41b6c571c8d",
   "metadata": {},
   "outputs": [],
   "source": [
    "#为了帮助判断是否下载成功，定义一个计算文件夹中的文献数的函数\n",
    "def count_paper(path):\n",
    "    for root,dirs,files in os.walk(path):\n",
    "        file_num=len(files)-1\n",
    "    return (file_num)"
   ]
  },
  {
   "cell_type": "code",
   "execution_count": 21,
   "id": "52a33617-bb6f-4047-9e71-7dfe49bd8287",
   "metadata": {},
   "outputs": [],
   "source": [
    "#定义一个函数，帮助找到最新下载的一个文件\n",
    "def find_new_file(path):\n",
    "    file_lists=os.listdir(path)\n",
    "    file_lists.remove(\".DS_Store\")\n",
    "    file_lists.sort(key=lambda fn: os.path.getmtime(path + \"/\" + fn)\n",
    "                    if not os.path.isdir(path + \"/\" + fn) else 0)\n",
    "    file=os.path.join(path, file_lists[-1])\n",
    "    return file"
   ]
  },
  {
   "cell_type": "code",
   "execution_count": 48,
   "id": "8e3a30ea-8586-4097-801a-db421733e19b",
   "metadata": {
    "tags": []
   },
   "outputs": [
    {
     "name": "stdout",
     "output_type": "stream",
     "text": [
      "256\n"
     ]
    }
   ],
   "source": [
    "df=links1940_1945\n",
    "print(len(df))"
   ]
  },
  {
   "cell_type": "code",
   "execution_count": 49,
   "id": "e78460e8-4e65-4986-b827-394d2d804062",
   "metadata": {
    "tags": []
   },
   "outputs": [
    {
     "name": "stdout",
     "output_type": "stream",
     "text": [
      "循环次数： 1\n",
      "256\n",
      "循环次数： 2\n",
      "256\n",
      "循环次数： 3\n",
      "256\n",
      "循环次数： 4\n",
      "256\n",
      "循环次数： 5\n",
      "256\n"
     ]
    }
   ],
   "source": [
    "#根据已经获取的stable_url在sci-hub上批量下载文献\n",
    "\n",
    "label=True #作用是当确定所有文献都已经下载完之后，就使循环停止运行\n",
    "times=0 #记录整体循环的次数；有些没有一次就下载成功的文章需要多次尝试，通过给times设定上限确保程序最终会停止\n",
    "count=count_paper(out_path)\n",
    "\n",
    "while label==True and times<5:\n",
    "    times+=1\n",
    "    print(\"循环次数：\",times)\n",
    "    unsuc=0 #判断是否有未下载成功的文献\n",
    "\n",
    "    for i in range(len(df)):\n",
    "        flushPrint(i+1)\n",
    "       \n",
    "        if df.iloc[i,2]==0:\n",
    "            \n",
    "            try:\n",
    "                \n",
    "                driver=webdriver.Chrome(executable_path=\"/Applications/anaconda3/chromedriver\",chrome_options=options)\n",
    "                link=\"https://sci-hub.hkvisa.net\"+\"/\"+df.iloc[i,1]\n",
    "                driver.get(link)\n",
    "\n",
    "                soup=BeautifulSoup(driver.page_source,'lxml')\n",
    "                download_link=str(soup.select(\"#buttons>button\"))\n",
    "                download_link=download_link.split(\"href='\")\n",
    "                download_link=download_link[1].split(\"'\\\">\")\n",
    "                download_link=download_link[0]\n",
    "\n",
    "\n",
    "                driver.get(download_link)\n",
    "                time.sleep(8)\n",
    "                \n",
    "                #判断文献是否下载成功\n",
    "                if count_paper(out_path)==count+1:\n",
    "                    df.iloc[i,2]=1\n",
    "                    count+=1\n",
    "                    \n",
    "                    #给新下载的文件重命名\n",
    "                    new_paper=find_new_file(out_path)\n",
    "                    new_name=str(df.iloc[i,0])+\"-\"+df.iloc[i,1][-7:]\n",
    "                    os.rename(new_paper,out_path+\"/\"+new_name+\".pdf\")\n",
    "                    \n",
    "                \n",
    "            except:\n",
    "                unsuc+=1\n",
    "            \n",
    "            driver.quit()\n",
    "        \n",
    "    print()\n",
    "    \n",
    "    if unsuc==0:\n",
    "        label=False"
   ]
  },
  {
   "cell_type": "code",
   "execution_count": 50,
   "id": "d6eff6bd-f6d2-4159-8ffe-727e345598dc",
   "metadata": {},
   "outputs": [
    {
     "data": {
      "text/plain": [
       "3208"
      ]
     },
     "execution_count": 50,
     "metadata": {},
     "output_type": "execute_result"
    }
   ],
   "source": [
    "#统计下载成功的文献数\n",
    "count_paper(out_path)"
   ]
  },
  {
   "cell_type": "code",
   "execution_count": 51,
   "id": "39cd7133-defe-4846-be76-2c2274a37ea3",
   "metadata": {
    "tags": []
   },
   "outputs": [
    {
     "name": "stdout",
     "output_type": "stream",
     "text": [
      "https://www.jstor.org/stable/2181134\n",
      "https://www.jstor.org/stable/2180964\n",
      "https://www.jstor.org/stable/2180560\n",
      "https://www.jstor.org/stable/2181365\n",
      "https://www.jstor.org/stable/2181354\n",
      "5\n"
     ]
    }
   ],
   "source": [
    "#查看没有下载成功的文献，尝试手动下载补齐\n",
    "count=0\n",
    "for i in range(len(df)):\n",
    "    if df.iloc[i,2]==0:\n",
    "        count+=1\n",
    "        print(df.iloc[i,1])\n",
    "print(count)"
   ]
  },
  {
   "cell_type": "markdown",
   "id": "f565b821-eea3-4ef2-9689-e3fe48af8595",
   "metadata": {},
   "source": [
    "### step2-3:把下载好的pdf文件转成txt格式"
   ]
  },
  {
   "cell_type": "code",
   "execution_count": 2,
   "id": "1bce5473-67ab-4547-b35b-34a162926e00",
   "metadata": {
    "tags": []
   },
   "outputs": [],
   "source": [
    "importlib.reload(sys)\n",
    "\n",
    "#定义一个可以实现pdf转txt的函数\n",
    "def parse(pdf_path, txt_path,unwanted):\n",
    "    label=True\n",
    "    \n",
    "    # 解析PDF文本，并保存到TXT文件中\n",
    "    fp = open(pdf_path, 'rb')\n",
    "    # 用文件对象创建一个PDF文档分析器\n",
    "    parser = PDFParser(fp)\n",
    "    # 创建一个PDF文档\n",
    "    doc = PDFDocument(parser,'')\n",
    "    # 连接分析器，与文档对象\n",
    "    parser.set_document(doc)\n",
    "    \n",
    "    if not doc.is_extractable:\n",
    "        raise PDFTextExtractionNotAllowed\n",
    "    else:\n",
    "        # 创建PDF，资源管理器，来共享资源\n",
    "        rsrcmgr = PDFResourceManager()\n",
    "        # 创建一个PDF设备对象\n",
    "        laparams = LAParams()\n",
    "        device = PDFPageAggregator(rsrcmgr, laparams=laparams)\n",
    "        # 创建一个PDF解释器对象\n",
    "        interpreter = PDFPageInterpreter(rsrcmgr, device)\n",
    "\n",
    "        # 循环遍历列表，每次处理一个page内容\n",
    "        pages=list(PDFPage.create_pages(doc))\n",
    "        page_num=len(pages)\n",
    "        i=0\n",
    "        while i<page_num and label:\n",
    "            page=pages[i]\n",
    "            interpreter.process_page(page)\n",
    "            # 接受该页面的LTPage对象\n",
    "            layout = device.get_result()\n",
    "            # 这里layout是一个LTPage对象 里面存放着 这个page解析出的各种对象\n",
    "            # 一般包括LTTextBox, LTFigure, LTImage, LTTextBoxHorizontal 等等\n",
    "            # 想要获取文本就获得对象的text属性\n",
    "            for x in layout:\n",
    "                if (isinstance(x, LTTextBoxHorizontal)):\n",
    "                    results = x.get_text()\n",
    "                    if i==0:\n",
    "                        for t in unwanted:\n",
    "                            if t in results:\n",
    "                                label=False\n",
    "                                break\n",
    "                    else:\n",
    "                        with open(txt_path, 'a+', encoding='utf-8') as f:\n",
    "                            f.write(results + \"\\n\")\n",
    "            i+=1"
   ]
  },
  {
   "cell_type": "code",
   "execution_count": 8,
   "id": "b11e880e-afc7-4592-b3a6-d2366f116ccc",
   "metadata": {
    "tags": []
   },
   "outputs": [],
   "source": [
    "#对所有下载得到的pdf文件使用parse函数\n",
    "pdf_path=\"/Users/yanglulin/Documents/本科学习生活/三春夏/4-计算文本分析/考核相关/大作业相关/PaperDownload/papers\"\n",
    "txt_path=\"/Users/yanglulin/Documents/本科学习生活/三春夏/4-计算文本分析/考核相关/大作业相关/PaperDownload/papers_txt\"\n",
    "unwanted=[\"Volume Information\",\"Front Matter\",\"Books Received\",\"Other Books Received\",\"Descriptive Notices\",\"Notes\",\"Back Matter\"]\n",
    "\n",
    "pdf_docs=[f for f in os.listdir(pdf_path)]\n",
    "txt_docs=[f for f in os.listdir(txt_path)]\n",
    "pdf_docs.remove(\".DS_Store\")\n",
    "\n",
    "unsuc=0\n",
    "\n",
    "for f in pdf_docs:\n",
    "    txt_name=f[:-3]+\"txt\"\n",
    "    if txt_name not in txt_docs:\n",
    "        try:\n",
    "            parse(pdf_path+\"/\"+f, txt_path+\"/\"+txt_name,unwanted)\n",
    "        except:\n",
    "            print(f)\n",
    "            unsuc+=1"
   ]
  },
  {
   "cell_type": "code",
   "execution_count": 9,
   "id": "b366956b-0a70-4a18-ad8d-61da8b94427c",
   "metadata": {},
   "outputs": [
    {
     "data": {
      "text/plain": [
       "1748"
      ]
     },
     "execution_count": 9,
     "metadata": {},
     "output_type": "execute_result"
    }
   ],
   "source": [
    "#统计转化后的文献数\n",
    "count_paper(txt_path)"
   ]
  },
  {
   "cell_type": "code",
   "execution_count": 10,
   "id": "072e90db-89a6-4cc4-9904-99d8c4b1ded8",
   "metadata": {},
   "outputs": [
    {
     "data": {
      "text/plain": [
       "0"
      ]
     },
     "execution_count": 10,
     "metadata": {},
     "output_type": "execute_result"
    }
   ],
   "source": [
    "#其中转换失败的数量是：\n",
    "unsuc"
   ]
  },
  {
   "cell_type": "code",
   "execution_count": null,
   "id": "0c96b303-beb7-400b-be43-b164c600d29b",
   "metadata": {},
   "outputs": [],
   "source": []
  }
 ],
 "metadata": {
  "kernelspec": {
   "display_name": "Python 3 (ipykernel)",
   "language": "python",
   "name": "python3"
  },
  "language_info": {
   "codemirror_mode": {
    "name": "ipython",
    "version": 3
   },
   "file_extension": ".py",
   "mimetype": "text/x-python",
   "name": "python",
   "nbconvert_exporter": "python",
   "pygments_lexer": "ipython3",
   "version": "3.9.7"
  }
 },
 "nbformat": 4,
 "nbformat_minor": 5
}
