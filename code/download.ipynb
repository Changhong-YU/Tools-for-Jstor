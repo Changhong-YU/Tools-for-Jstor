{
 "cells": [
  {
   "cell_type": "code",
   "execution_count": 1,
   "id": "9063537e-0e7e-4054-bd72-40893d665877",
   "metadata": {},
   "outputs": [],
   "source": [
    "import pandas as pd\n",
    "import numpy as np\n",
    "\n",
    "import requests\n",
    "from bs4 import BeautifulSoup\n",
    "\n",
    "import os,sys\n",
    "\n",
    "from selenium import webdriver\n",
    "from selenium.webdriver.common.keys import Keys\n",
    "from selenium.webdriver.chrome.service import Service\n",
    "from selenium.webdriver import ActionChains\n",
    "\n",
    "\n",
    "import time\n",
    "\n",
    "\n",
    "def flushPrint(s):\n",
    "    sys.stdout.write('\\r')\n",
    "    sys.stdout.write('%s' % s)\n",
    "    sys.stdout.flush()\n",
    "\n"
   ]
  },
  {
   "cell_type": "code",
   "execution_count": 2,
   "id": "b349f69b-fd58-442e-9155-e39fbc395946",
   "metadata": {},
   "outputs": [],
   "source": [
    "df = pd.read_pickle('./info-jstor.pkl')\n",
    "#df = pd.read_csv('./result-jstor.csv')"
   ]
  },
  {
   "cell_type": "code",
   "execution_count": 3,
   "id": "9cc51ba4-0711-455b-b001-ace20b70fe16",
   "metadata": {},
   "outputs": [],
   "source": [
    "#df['Downloaded'] = pd.Series([0 for i in range(len(df))])"
   ]
  },
  {
   "cell_type": "code",
   "execution_count": 4,
   "id": "b1e8d41c-0baa-4386-9c95-7d8ba21ad9d9",
   "metadata": {},
   "outputs": [
    {
     "data": {
      "text/html": [
       "<div>\n",
       "<style scoped>\n",
       "    .dataframe tbody tr th:only-of-type {\n",
       "        vertical-align: middle;\n",
       "    }\n",
       "\n",
       "    .dataframe tbody tr th {\n",
       "        vertical-align: top;\n",
       "    }\n",
       "\n",
       "    .dataframe thead th {\n",
       "        text-align: right;\n",
       "    }\n",
       "</style>\n",
       "<table border=\"1\" class=\"dataframe\">\n",
       "  <thead>\n",
       "    <tr style=\"text-align: right;\">\n",
       "      <th></th>\n",
       "      <th>Author</th>\n",
       "      <th>Title</th>\n",
       "      <th>Year</th>\n",
       "      <th>Doi</th>\n",
       "      <th>Downloaded</th>\n",
       "    </tr>\n",
       "  </thead>\n",
       "  <tbody>\n",
       "    <tr>\n",
       "      <th>0</th>\n",
       "      <td>Dwight B. Billings and Shaunna L. Scott</td>\n",
       "      <td>Religion and Political Legitimation</td>\n",
       "      <td>1994</td>\n",
       "      <td>10.2307/2083364</td>\n",
       "      <td>1</td>\n",
       "    </tr>\n",
       "    <tr>\n",
       "      <th>1</th>\n",
       "      <td>Harold W. Pfautz</td>\n",
       "      <td>The Sociology of Secularization: Religious Groups</td>\n",
       "      <td>1955</td>\n",
       "      <td>10.2307/2771726</td>\n",
       "      <td>1</td>\n",
       "    </tr>\n",
       "    <tr>\n",
       "      <th>2</th>\n",
       "      <td>Nancy Theberge</td>\n",
       "      <td>A Critique of Critiques: Radical and Feminist ...</td>\n",
       "      <td>1981</td>\n",
       "      <td>10.2307/2578439</td>\n",
       "      <td>1</td>\n",
       "    </tr>\n",
       "    <tr>\n",
       "      <th>3</th>\n",
       "      <td>Frederick C. Engelmann and Mildred A. Schwartz</td>\n",
       "      <td>Partisan Stability and the Continuity of a Seg...</td>\n",
       "      <td>1974</td>\n",
       "      <td>10.2307/2776351</td>\n",
       "      <td>1</td>\n",
       "    </tr>\n",
       "    <tr>\n",
       "      <th>4</th>\n",
       "      <td>Wade Clark Roof</td>\n",
       "      <td>Traditional Religion in Contemporary Society: ...</td>\n",
       "      <td>1976</td>\n",
       "      <td>10.2307/2094469</td>\n",
       "      <td>1</td>\n",
       "    </tr>\n",
       "    <tr>\n",
       "      <th>...</th>\n",
       "      <td>...</td>\n",
       "      <td>...</td>\n",
       "      <td>...</td>\n",
       "      <td>...</td>\n",
       "      <td>...</td>\n",
       "    </tr>\n",
       "    <tr>\n",
       "      <th>57</th>\n",
       "      <td>Steve Bruce</td>\n",
       "      <td>The Pervasive World-View: Religion in Pre-Mode...</td>\n",
       "      <td>1997</td>\n",
       "      <td>10.2307/591602</td>\n",
       "      <td>0</td>\n",
       "    </tr>\n",
       "    <tr>\n",
       "      <th>58</th>\n",
       "      <td>Kenneth Thompson</td>\n",
       "      <td>Religion: The British Contribution</td>\n",
       "      <td>1990</td>\n",
       "      <td>10.2307/590666</td>\n",
       "      <td>0</td>\n",
       "    </tr>\n",
       "    <tr>\n",
       "      <th>59</th>\n",
       "      <td>Ariana Need and Nan Dirk de Graaf</td>\n",
       "      <td>'Losing My Religion': A Dynamic Analysis of Le...</td>\n",
       "      <td>1996</td>\n",
       "      <td>10.2307/522776</td>\n",
       "      <td>0</td>\n",
       "    </tr>\n",
       "    <tr>\n",
       "      <th>60</th>\n",
       "      <td>John Seidler</td>\n",
       "      <td>Contested Accommodation: The Catholic Church a...</td>\n",
       "      <td>1986</td>\n",
       "      <td>10.2307/2578784</td>\n",
       "      <td>0</td>\n",
       "    </tr>\n",
       "    <tr>\n",
       "      <th>61</th>\n",
       "      <td>William Sims Bainbridge</td>\n",
       "      <td>Explaining the Church Member Rate</td>\n",
       "      <td>1990</td>\n",
       "      <td>10.2307/2579145</td>\n",
       "      <td>0</td>\n",
       "    </tr>\n",
       "  </tbody>\n",
       "</table>\n",
       "<p>62 rows × 5 columns</p>\n",
       "</div>"
      ],
      "text/plain": [
       "                                            Author  \\\n",
       "0          Dwight B. Billings and Shaunna L. Scott   \n",
       "1                                 Harold W. Pfautz   \n",
       "2                                   Nancy Theberge   \n",
       "3   Frederick C. Engelmann and Mildred A. Schwartz   \n",
       "4                                  Wade Clark Roof   \n",
       "..                                             ...   \n",
       "57                                     Steve Bruce   \n",
       "58                                Kenneth Thompson   \n",
       "59               Ariana Need and Nan Dirk de Graaf   \n",
       "60                                    John Seidler   \n",
       "61                         William Sims Bainbridge   \n",
       "\n",
       "                                                Title  Year              Doi  \\\n",
       "0                 Religion and Political Legitimation  1994  10.2307/2083364   \n",
       "1   The Sociology of Secularization: Religious Groups  1955  10.2307/2771726   \n",
       "2   A Critique of Critiques: Radical and Feminist ...  1981  10.2307/2578439   \n",
       "3   Partisan Stability and the Continuity of a Seg...  1974  10.2307/2776351   \n",
       "4   Traditional Religion in Contemporary Society: ...  1976  10.2307/2094469   \n",
       "..                                                ...   ...              ...   \n",
       "57  The Pervasive World-View: Religion in Pre-Mode...  1997   10.2307/591602   \n",
       "58                 Religion: The British Contribution  1990   10.2307/590666   \n",
       "59  'Losing My Religion': A Dynamic Analysis of Le...  1996   10.2307/522776   \n",
       "60  Contested Accommodation: The Catholic Church a...  1986  10.2307/2578784   \n",
       "61                  Explaining the Church Member Rate  1990  10.2307/2579145   \n",
       "\n",
       "    Downloaded  \n",
       "0            1  \n",
       "1            1  \n",
       "2            1  \n",
       "3            1  \n",
       "4            1  \n",
       "..         ...  \n",
       "57           0  \n",
       "58           0  \n",
       "59           0  \n",
       "60           0  \n",
       "61           0  \n",
       "\n",
       "[62 rows x 5 columns]"
      ]
     },
     "execution_count": 4,
     "metadata": {},
     "output_type": "execute_result"
    }
   ],
   "source": [
    "df"
   ]
  },
  {
   "cell_type": "code",
   "execution_count": 5,
   "id": "2799b67a-665a-4c82-a2e9-759acdc9375b",
   "metadata": {},
   "outputs": [],
   "source": [
    "def mark_download(num_1,df):\n",
    "    for i in num_1:\n",
    "        df.loc[i, 'Downloaded']=1\n",
    "        df.to_csv(\"result-jstor.csv\", index_label=\"index_label\")\n",
    "        df.to_pickle('./info-jstor.pkl')\n",
    "    return df"
   ]
  },
  {
   "cell_type": "code",
   "execution_count": 6,
   "id": "4dd2fed7-dab7-4161-848e-1f27e428e711",
   "metadata": {},
   "outputs": [],
   "source": [
    "num_1 = [0,1,2,3,4,5,6,7,8,10,11,13,14,15,16,17,18,22,23,25,39,40]\n",
    "#mark_download(num_1,df)"
   ]
  },
  {
   "cell_type": "code",
   "execution_count": 7,
   "id": "a02d0ae8-fdd5-4f1a-a18f-fa916f515474",
   "metadata": {},
   "outputs": [],
   "source": [
    "#设定下载地址\n",
    "options=webdriver.ChromeOptions()\n",
    "out_path='/Users/yuchanghong/Downloads'\n",
    "prefs={'profile.default_content_settings.popups': 0, 'download.default_directory': out_path}\n",
    "options.add_experimental_option('prefs', prefs)"
   ]
  },
  {
   "cell_type": "code",
   "execution_count": 8,
   "id": "aeb2e827-b617-44ae-a303-6460df5fd7f9",
   "metadata": {},
   "outputs": [],
   "source": [
    "#为了帮助判断是否下载成功，定义一个计算文件夹中的文献数的函数\n",
    "def count_paper(path):\n",
    "    files = os.listdir(path)\n",
    "    file_num=len(files)\n",
    "    return (file_num)"
   ]
  },
  {
   "cell_type": "code",
   "execution_count": 9,
   "id": "89aa0121-a444-4f99-b54c-8949d6e6d201",
   "metadata": {},
   "outputs": [
    {
     "data": {
      "text/plain": [
       "4"
      ]
     },
     "execution_count": 9,
     "metadata": {},
     "output_type": "execute_result"
    }
   ],
   "source": [
    "c = count_paper('/Users/yuchanghong/Downloads')\n",
    "c"
   ]
  },
  {
   "cell_type": "code",
   "execution_count": 10,
   "id": "d33a6f3b-ea65-4d7b-a198-aec47d0008db",
   "metadata": {},
   "outputs": [],
   "source": [
    "#定义一个函数，帮助找到最新下载的一个文件\n",
    "def find_new_file(path):\n",
    "    file_lists=os.listdir(path)\n",
    "    file_lists.remove(\".DS_Store\")\n",
    "    file_lists.sort(key=lambda fn: os.path.getmtime(path + \"/\" + fn)\n",
    "                    if not os.path.isdir(path + \"/\" + fn) else 0)\n",
    "    file=os.path.join(path, file_lists[-1])\n",
    "    return file"
   ]
  },
  {
   "cell_type": "code",
   "execution_count": null,
   "id": "c113d076-1e43-41a6-9fea-6bf8fe9f5c4b",
   "metadata": {
    "scrolled": true,
    "tags": []
   },
   "outputs": [
    {
     "name": "stdin",
     "output_type": "stream",
     "text": [
      "0读取，其他不读取： 8\n"
     ]
    },
    {
     "name": "stdout",
     "output_type": "stream",
     "text": [
      "循环次数： 1\n",
      "10"
     ]
    },
    {
     "name": "stderr",
     "output_type": "stream",
     "text": [
      "/var/folders/r7/p1s2dy_d55zbvx8s9j4nd_x00000gn/T/ipykernel_1093/3794922637.py:23: DeprecationWarning: executable_path has been deprecated, please pass in a Service object\n",
      "  driver=webdriver.Chrome(executable_path=\"/Users/yuchanghong/opt/anaconda3/chromedriver\",chrome_options=options)\n",
      "/var/folders/r7/p1s2dy_d55zbvx8s9j4nd_x00000gn/T/ipykernel_1093/3794922637.py:23: DeprecationWarning: use options instead of chrome_options\n",
      "  driver=webdriver.Chrome(executable_path=\"/Users/yuchanghong/opt/anaconda3/chromedriver\",chrome_options=options)\n"
     ]
    },
    {
     "name": "stdout",
     "output_type": "stream",
     "text": [
      "现有文件数 5\n",
      "rename\n",
      "13现有文件数 6\n",
      "rename\n",
      "20现有文件数 7\n",
      "rename\n",
      "21现有文件数 8\n",
      "rename\n",
      "29现有文件数 9\n",
      "rename\n",
      "33现有文件数 10\n",
      "rename\n",
      "38现有文件数 11\n",
      "rename\n",
      "39现有文件数 12\n",
      "rename\n",
      "42现有文件数 13\n",
      "rename\n",
      "43现有文件数 14\n",
      "rename\n",
      "44现有文件数 15\n",
      "rename\n",
      "45现有文件数 16\n",
      "rename\n",
      "46现有文件数 17\n",
      "rename\n",
      "47现有文件数 18\n",
      "rename\n",
      "48现有文件数 19\n",
      "rename\n",
      "49现有文件数 20\n",
      "rename\n",
      "50现有文件数 21\n",
      "rename\n",
      "51现有文件数 22\n",
      "rename\n",
      "52现有文件数 23\n",
      "rename\n",
      "62现有文件数 24\n",
      "rename\n"
     ]
    },
    {
     "name": "stdin",
     "output_type": "stream",
     "text": [
      "0读取，其他不读取： 9\n"
     ]
    },
    {
     "name": "stdout",
     "output_type": "stream",
     "text": [
      "循环次数： 2\n",
      "54现有文件数 25\n",
      "rename\n",
      "55现有文件数 26\n",
      "rename\n",
      "56现有文件数 27\n",
      "rename\n",
      "57现有文件数 28\n",
      "rename\n",
      "58现有文件数 29\n",
      "rename\n",
      "59现有文件数 30\n",
      "rename\n",
      "60现有文件数 31\n",
      "rename\n",
      "61现有文件数 32\n",
      "rename\n",
      "62"
     ]
    },
    {
     "name": "stdin",
     "output_type": "stream",
     "text": [
      "0读取，其他不读取： 0\n"
     ]
    },
    {
     "name": "stdout",
     "output_type": "stream",
     "text": [
      "循环次数： 3\n",
      "53现有文件数 33\n",
      "rename\n",
      "62"
     ]
    },
    {
     "name": "stdin",
     "output_type": "stream",
     "text": [
      "0读取，其他不读取： 0\n"
     ]
    },
    {
     "name": "stdout",
     "output_type": "stream",
     "text": [
      "循环次数： 4\n",
      "32"
     ]
    }
   ],
   "source": [
    "#根据已经获取的doi在sci-hub上批量下载文献\n",
    "\n",
    "label=True #作用是当确定所有文献都已经下载完之后，就使循环停止运行\n",
    "times=0 #记录整体循环的次数；有些没有一次就下载成功的文章需要多次尝试，通过给times设定上限确保程序最终会停止\n",
    "r = 9\n",
    "\n",
    "while label==True and times<5:\n",
    "    r = input(\"0读取，其他不读取：\")\n",
    "    if r==0:\n",
    "        df = pd.read_pickle('./info-jstor'+str(times)+'.pkl')\n",
    "    times+=1\n",
    "    print(\"循环次数：\",times)\n",
    "    unsuc=0 #判断是否有未下载成功的文献\n",
    "    \n",
    "    for i in range(len(df)):\n",
    "    #for i in range(1):\n",
    "        flushPrint(i+1)\n",
    "        count=count_paper(out_path)\n",
    "       \n",
    "        if df.iloc[i,4]==0:\n",
    "            \n",
    "            try:\n",
    "                driver=webdriver.Chrome(executable_path=\"/Users/yuchanghong/opt/anaconda3/chromedriver\",chrome_options=options)\n",
    "                link=\"https://sci-hub.se/\"+df.iloc[i,3]\n",
    "                driver.get(link)\n",
    "                soup=BeautifulSoup(driver.page_source,'lxml')\n",
    "                temp=str(soup.select(\"#buttons>button\")).split(\"href='\")[1].split(\"'\\\">\")\n",
    "                download_link='http://'+temp[0].lstrip('/')\n",
    "                #print(download_link)\n",
    "                driver.get(download_link)\n",
    "                time.sleep(30)\n",
    "                print('现有文件数',count_paper(out_path))\n",
    "                \n",
    "                #判断文献是否下载成功\n",
    "                if count_paper(out_path)==count+1:\n",
    "                    df.iloc[i,4]=1\n",
    "                    print('rename')\n",
    "                    #给新下载的文件重命名\n",
    "                    new_paper=find_new_file(out_path)\n",
    "                    new_name=str(df.iloc[i,0].split(',')[0])+\"_\"+df.iloc[i,2]\n",
    "                    os.rename(new_paper,out_path+\"/\"+new_name+\".pdf\")\n",
    "    \n",
    "                \n",
    "            except:\n",
    "                unsuc+=1\n",
    "            \n",
    "            driver.quit()\n",
    "    if unsuc==0:\n",
    "        label=False\n",
    "    df.to_csv(\"result-jstor.csv\", index_label=\"index_label\")\n",
    "    df.to_pickle('./info-jstor'+str(times)+'.pkl')"
   ]
  },
  {
   "cell_type": "code",
   "execution_count": 12,
   "id": "b552875f-0caa-4023-9a9a-7ee98c1b7f42",
   "metadata": {},
   "outputs": [
    {
     "data": {
      "text/plain": [
       "['',\n",
       " '',\n",
       " '',\n",
       " 'Andrew J. Weigert and Darwin L. Thomas',\n",
       " 'Ariana Need and Nan Dirk de Graaf',\n",
       " 'Armand L. Mauss',\n",
       " 'DAMON MAYRL',\n",
       " 'DAMON MAYRL',\n",
       " 'David Martin',\n",
       " 'David Voas and Alasdair Crockett and Daniel V. A. Olson',\n",
       " 'David Voas and Mark Chaves',\n",
       " 'Dwight B. Billings and Shaunna L. Scott',\n",
       " 'Edward A. Tiryakian',\n",
       " 'Elaine Howard Ecklund and Jerry Z. Park and Phil Todd Veliz',\n",
       " 'Eviatar Zerubavel',\n",
       " 'Fenggang Yang and Helen Rose Ebaugh',\n",
       " 'Frank J. Lechner',\n",
       " 'Frank J. Lechner',\n",
       " 'Frank van\\xa0Tubergen and Manfred te\\xa0Grotenhuis and Wout Ultee',\n",
       " 'Frederick C. Engelmann and Mildred A. Schwartz',\n",
       " 'Gerald Marwell and N. J. Demerath',\n",
       " 'Guenther Roth',\n",
       " 'Harold W. Pfautz',\n",
       " 'Harold W. Pfautz',\n",
       " 'Heiner Meulemann',\n",
       " 'Heiner Meulemann',\n",
       " 'Jacqueline Scott',\n",
       " 'Jeffrey K. Hadden',\n",
       " 'John Seidler',\n",
       " 'Kenneth Thompson',\n",
       " 'Kenneth Thompson and Anita Sharma',\n",
       " 'Kenneth Westhues',\n",
       " 'LARS BO KASPERSEN and JOHANNES LINDVALL',\n",
       " 'Larry R. Petersen and Gregory V. Donnenwerth',\n",
       " 'Liana Giorgi',\n",
       " 'Loek Halman and Erik van Ingen',\n",
       " 'Louis Schneider and Sanford M. Dornbusch',\n",
       " 'MATTHEW WOOD and Veronique Altglas',\n",
       " 'Malcolm Bull',\n",
       " 'Mark Chaves',\n",
       " 'Mark Chaves',\n",
       " 'Masamichi Sasaki and Tatsuzo Suzuki',\n",
       " 'Max Haller',\n",
       " 'Michael Hout and Andrew M. Greeley',\n",
       " 'Michael McBride',\n",
       " 'Nancy Theberge',\n",
       " 'PETER BRICKEY LEQUIRE and DANIEL SILVER',\n",
       " 'Penny Edgell',\n",
       " 'Philip Richter',\n",
       " 'Philip S. Gorski',\n",
       " 'Philip S. Gorski and Ateş Altinordu',\n",
       " 'Phillip E. Hammond',\n",
       " 'Renée de la Torre and Eloisa Martín',\n",
       " 'Robert Redfield',\n",
       " 'Robert Wuthnow',\n",
       " 'S. J. Tambiah and Bryce Ryan',\n",
       " 'SAÏD AMIR ARJOMAND',\n",
       " 'STEVE BRUCE',\n",
       " 'Steve Bruce',\n",
       " 'Steve Bruce',\n",
       " 'Tim Müller and Anja Neundorf',\n",
       " 'Timothy Crippen',\n",
       " 'W. Seward Salisbury',\n",
       " 'Wade Clark Roof',\n",
       " 'William Sims Bainbridge']"
      ]
     },
     "execution_count": 12,
     "metadata": {},
     "output_type": "execute_result"
    }
   ],
   "source": [
    "sorted(list(df['Author']))"
   ]
  },
  {
   "cell_type": "code",
   "execution_count": 2,
   "id": "d58187c9-2eee-4da8-8943-8b9266d30769",
   "metadata": {},
   "outputs": [],
   "source": [
    "#df = pd.read_pickle('./info-jstor'+str(0)+'.pkl')"
   ]
  },
  {
   "cell_type": "code",
   "execution_count": 7,
   "id": "cd8f374a-0cae-4b6d-9b28-4cef592e10df",
   "metadata": {},
   "outputs": [],
   "source": [
    "#df = pd.read_pickle('./info-jstor.pkl')"
   ]
  },
  {
   "cell_type": "code",
   "execution_count": 12,
   "id": "00bdc982-726b-4edb-875d-c2d2b28bac7e",
   "metadata": {},
   "outputs": [],
   "source": [
    "df.to_csv(\"result-jstor.csv\", index_label=\"index_label\")"
   ]
  },
  {
   "cell_type": "code",
   "execution_count": 13,
   "id": "da11af8b-7f0f-4365-975b-ae3160c39b5e",
   "metadata": {},
   "outputs": [],
   "source": [
    "df.to_pickle('./info-jstor.pkl')"
   ]
  },
  {
   "cell_type": "code",
   "execution_count": null,
   "id": "e25134a0-08b8-4ac2-bb86-739cf7c58556",
   "metadata": {},
   "outputs": [],
   "source": []
  }
 ],
 "metadata": {
  "kernelspec": {
   "display_name": "Python 3 (ipykernel)",
   "language": "python",
   "name": "python3"
  },
  "language_info": {
   "codemirror_mode": {
    "name": "ipython",
    "version": 3
   },
   "file_extension": ".py",
   "mimetype": "text/x-python",
   "name": "python",
   "nbconvert_exporter": "python",
   "pygments_lexer": "ipython3",
   "version": "3.9.7"
  }
 },
 "nbformat": 4,
 "nbformat_minor": 5
}
