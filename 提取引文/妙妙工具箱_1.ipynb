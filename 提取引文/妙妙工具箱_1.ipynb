{
 "cells": [
  {
   "cell_type": "code",
   "execution_count": 1,
   "id": "f77a388e-70c8-4765-b39b-09aedc3c08b5",
   "metadata": {},
   "outputs": [],
   "source": [
    "import pandas as pd\n",
    "import numpy as np"
   ]
  },
  {
   "cell_type": "code",
   "execution_count": 2,
   "id": "49a8e120-4e0d-4228-b34d-fd3dc67c3a4c",
   "metadata": {},
   "outputs": [],
   "source": [
    "df = pd.read_csv(r'2017 - In the Organization_s Shadow - Matthew E. Brashears; Michael Genkin; Chan S. Suh.txt',sep='/t',header=None,engine='python')"
   ]
  },
  {
   "cell_type": "code",
   "execution_count": 3,
   "id": "dee95257-00b2-438a-8aba-9e094ca80eea",
   "metadata": {},
   "outputs": [
    {
     "data": {
      "text/plain": [
       "'. 2017 by The University of Chicago. All rights reserved. 0002-9602/2017/12303-0004$10.00'"
      ]
     },
     "execution_count": 3,
     "metadata": {},
     "output_type": "execute_result"
    }
   ],
   "source": [
    "df.columns =[\"x\"]\n",
    "df['x'][3]"
   ]
  },
  {
   "cell_type": "code",
   "execution_count": 4,
   "id": "1fef1710-0d08-4de6-8593-62233044a359",
   "metadata": {},
   "outputs": [
    {
     "data": {
      "text/plain": [
       "11"
      ]
     },
     "execution_count": 4,
     "metadata": {},
     "output_type": "execute_result"
    }
   ],
   "source": [
    "len(df)"
   ]
  },
  {
   "cell_type": "code",
   "execution_count": 5,
   "id": "8fbba8b7-2b9a-4852-946d-d9ae945c0ac3",
   "metadata": {},
   "outputs": [],
   "source": [
    "s = \"\"\n",
    "for i in range(len(df)):\n",
    "    s = ''.join([s,df['x'][i]])"
   ]
  },
  {
   "cell_type": "code",
   "execution_count": 6,
   "id": "df71e9cc-0d51-4431-b892-38a210ee997e",
   "metadata": {},
   "outputs": [
    {
     "data": {
      "text/plain": [
       "5873"
      ]
     },
     "execution_count": 6,
     "metadata": {},
     "output_type": "execute_result"
    }
   ],
   "source": [
    "len(s)"
   ]
  },
  {
   "cell_type": "code",
   "execution_count": 7,
   "id": "23c7c87b-426d-4ce9-8fc0-4ccb3833b795",
   "metadata": {},
   "outputs": [
    {
     "data": {
      "text/plain": [
       "'Individuals who join an organization often adopt its characteristic be-haviors, but does the same effect extend to nearby nonmembers, and is this process impeded or enhanced by the competition between orga-nizations? This article argues that organizations in.uence the behav-ior of both members and proximate nonmembers in a process we term “organizational leakage” and that competition between organizations moderates the impact of any one of them on individual behavior. This article .nds, using the Add Health data, that an individual’s location in an organizational ecology is an important predictor of his or her be-havior, even while controlling for other factors, including membership.Organizations, and organizational competition, affect individual behavior. Organizations are unique social entities that exhibit behaviors (Argote and Greve 2007; Gavetti, Levinthal, and Ocasio 2007), possess identities (Albert and Whetten 1985; Gioia et al. 2010), and exert a powerful normative in-1 Prelim'"
      ]
     },
     "execution_count": 7,
     "metadata": {},
     "output_type": "execute_result"
    }
   ],
   "source": [
    "s[:1000]"
   ]
  },
  {
   "cell_type": "code",
   "execution_count": 8,
   "id": "0fd432bb-08b4-4663-ab3d-13d97b546af2",
   "metadata": {},
   "outputs": [],
   "source": [
    "l = s.split(\")\")"
   ]
  },
  {
   "cell_type": "code",
   "execution_count": 9,
   "id": "668ff161-5c8b-4f53-84ca-5a3cdd9bdbc4",
   "metadata": {},
   "outputs": [
    {
     "data": {
      "text/plain": [
       "28"
      ]
     },
     "execution_count": 9,
     "metadata": {},
     "output_type": "execute_result"
    }
   ],
   "source": [
    "len(l)"
   ]
  },
  {
   "cell_type": "code",
   "execution_count": 10,
   "id": "a048347b-a34e-4783-9773-595821edee97",
   "metadata": {
    "scrolled": true,
    "tags": []
   },
   "outputs": [
    {
     "name": "stdout",
     "output_type": "stream",
     "text": [
      "Individuals who join an organization often adopt its characteristic be-haviors, but does the same effect extend to nearby nonmembers, and is this process impeded or enhanced by the competition between orga-nizations? This article argues that organizations in.uence the behav-ior of both members and proximate nonmembers in a process we term “organizational leakage” and that competition between organizations moderates the impact of any one of them on individual behavior. This article .nds, using the Add Health data, that an individual’s location in an organizational ecology is an important predictor of his or her be-havior, even while controlling for other factors, including membership.Organizations, and organizational competition, affect individual behavior. Organizations are unique social entities that exhibit behaviors (Argote and Greve 2007; Gavetti, Levinthal, and Ocasio 2007\n",
      ", possess identities (Albert and Whetten 1985; Gioia et al. 2010\n",
      ", and exert a powerful normative in-1 Preliminary versions of this article were presented at Sunbelt XXXII and at the annual meeting of the American Sociological Association in Denver, Colorado. The authors thank Jon Kleinberg, Edward Lawler, Michael Macy, David Strang, Pamela Tolbert, Brayden. 2017 by The University of Chicago. All rights reserved. 0002-9602/2017/12303-0004$10.00AJS Volume 123 Number 3 (November 2017\n",
      ": 787–849 787.uence over their members (Alexander, Zucker, and Brody 1970; Zucker 1977\n",
      ". Organizations are also embedded in environments (see Scott 2004\n",
      " and are in.uenced both by events taking place in other organizations (Davis 1991; Strang and Soule 1998\n",
      " and by the knowledge of new recruits (DiMaggio and Powell 1983\n",
      ". Finally, organizations are in competition with each other, both for members (McPherson 1983; McPherson and Ranger-Moore 1991\n",
      " and for customers (Hannan and Freeman 1989\n",
      ". Thus, organizations directly affect the behaviors of both individual members and other organizations. But can organizations also in.uence socially proximate nonmembers, and is the organizational in.uence on individual behaviors moderated by competition between organizations?We argue that the answer to both of these questions is yes. Organizational boundaries are porous, which allows new behaviors to enter the organiza-tion from the outside, while also permitting behaviors to leak out of the or-ganization into the local social environment. Proximity to an organization in social space should thus make these leaking behaviors more available and attractive to individuals who are not members of that organization, as long as both are part of the same local context. Moreover, organizations compete with each other for members, for resources, and for clients; and when individuals are exposed to the behaviors of many different organiza-tions (i.e., high organizational competition\n",
      ", the in.uence of any one organi-zation will be diminished. As a result, the behaviors of individuals can be fully understood only when placed in the context of organizations and the competition between them.We begin by describing previous research on organizations, their effects on individual behavior, and their interactions with their environment. Orga-nizations have a uniquely powerful ability to generate and maintain norms, thereby in.uencing member behavior. We then introduce McPherson’s (1983\n",
      " af.liational ecology or “Blau space” model and extend it by linking organizational competition to individual-level behavior. Blau space allows us to model ecological forces and to capture “casual contact,” or interpersonalBACKGROUND AND THEORY Individual Behavior, Organizations, and the Environment Organizations are distinctive social entities (e.g., Perrow 1979, 2002; Cole-man 1982, 1990\n",
      ", which can be viewed as “a particular kind of social actor, capable of behaving in a purposeful, intentional manner” (King, Felin, and Whetten 2010, p. 291\n",
      ". Organizations exhibit behavior (Argote and Greve 2007; Gavetti et al. 2007\n",
      ", possess identities (Albert and Whetten 1985; Gioia et al. 2010\n",
      ", and enact their own scripts (Gioia and Poole 1984\n",
      ". Moreover, organiza-tions are often viewed as actors by individuals (e.g., Scott and Meyer 1994\n",
      " and possess their own unique cultures (Ouchi and Wilkins 1985\n",
      ".In addition to having attitudes and behaviors at the organizational level, the members of an organization frequently possess characteristic patterns of attitudes and behaviors. Organizations tend to foster social identities (Tajfel 1982; Ashforth and Mael 1989; Ellemers, Spears, and Doosje 2002\n",
      ", and these identities are often associated with speci.c behaviors (e.g., Ashforth and Mael 1989; Eccles and Barber 1999; Barber, Eccles, and Stone 2001\n",
      ". Many behav-iors, though not all, are characteristic of particular organizations or organi-zational identities, and organizations of the same type (i.e., members of an “organizational .eld”; see DiMaggio and Powell 1983\n",
      " often host similar individual behaviors. These characteristic behaviors can become norms (Friedkin 2001\n",
      ", which often (but not invariably; see Feldman 1984; Kitts 2006\n",
      " support the objectives of the organization. The development of norms depends on perceptions of the situation (Alexander et al. 1970\n",
      ": persons who identify themselves as members of an organization transmit group norms to new members more quickly, maintain the norms more reliably, and resist the encroachment of rival norms more effectively than others (Zucker 1977\n",
      ". These norms are legitimated, and thereby entrenched, by both formal and informal authorization from superordinate individuals as well as by implicit or explicit endorsement from peers (Suchman 1995; Johnson, Dowd, and Ridgeway 2006\n",
      ". As a consequence, organizations are uniquely effective at transmitting and maintaining norms, and organizational culture is quite stable (Harrison and Carroll 2002\n",
      ".\n"
     ]
    }
   ],
   "source": [
    "for i in range(len(l)):\n",
    "    print(l[i])"
   ]
  },
  {
   "cell_type": "code",
   "execution_count": 11,
   "id": "e6289852-6048-4f16-934c-ddb265352520",
   "metadata": {},
   "outputs": [
    {
     "name": "stdout",
     "output_type": "stream",
     "text": [
      "True\n"
     ]
    }
   ],
   "source": [
    "print(l[6][-4:].isdigit())"
   ]
  },
  {
   "cell_type": "code",
   "execution_count": 12,
   "id": "fb12fd5e-46d7-432d-9a3b-cfc1363afe58",
   "metadata": {},
   "outputs": [
    {
     "data": {
      "text/plain": [
       "'DiMaggio and Powell 1983'"
      ]
     },
     "execution_count": 12,
     "metadata": {},
     "output_type": "execute_result"
    }
   ],
   "source": [
    "l[6].split(\"(\")[-1]"
   ]
  },
  {
   "cell_type": "code",
   "execution_count": 13,
   "id": "84dad0f7-5041-47ae-b0e8-9bfc817ff75b",
   "metadata": {},
   "outputs": [],
   "source": [
    "citation = []\n",
    "for i in range(len(l)):\n",
    "    if len(l[i])>4:\n",
    "        if l[i][-4].isdigit():\n",
    "            if len(l[i].split(\"(\")[-1])>4:\n",
    "                citation.append(l[i].split(\"(\")[-1])\n",
    "            else:\n",
    "                temp1 = l[i].split(\"(\")[-1]\n",
    "                temp2 = l[i].split(\"(\")[-2].split(\" \")[-2]\n",
    "                if temp2[-2:]=='’s':\n",
    "                    temp2 = temp2[:-2]\n",
    "                citation.append(' '.join([temp2,temp1]))"
   ]
  },
  {
   "cell_type": "code",
   "execution_count": 14,
   "id": "15d00ea2-a0a6-4241-9643-632a8a3a3770",
   "metadata": {},
   "outputs": [
    {
     "data": {
      "text/plain": [
       "['Argote and Greve 2007; Gavetti, Levinthal, and Ocasio 2007',\n",
       " 'Albert and Whetten 1985; Gioia et al. 2010',\n",
       " 'November 2017',\n",
       " 'Alexander, Zucker, and Brody 1970; Zucker 1977',\n",
       " 'see Scott 2004',\n",
       " 'Davis 1991; Strang and Soule 1998',\n",
       " 'DiMaggio and Powell 1983',\n",
       " 'McPherson 1983; McPherson and Ranger-Moore 1991',\n",
       " 'Hannan and Freeman 1989',\n",
       " 'McPherson 1983',\n",
       " 'e.g., Perrow 1979, 2002; Cole-man 1982, 1990',\n",
       " 'Argote and Greve 2007; Gavetti et al. 2007',\n",
       " 'Albert and Whetten 1985; Gioia et al. 2010',\n",
       " 'Gioia and Poole 1984',\n",
       " 'e.g., Scott and Meyer 1994',\n",
       " 'Ouchi and Wilkins 1985',\n",
       " 'Tajfel 1982; Ashforth and Mael 1989; Ellemers, Spears, and Doosje 2002',\n",
       " 'e.g., Ashforth and Mael 1989; Eccles and Barber 1999; Barber, Eccles, and Stone 2001',\n",
       " 'i.e., members of an “organizational .eld”; see DiMaggio and Powell 1983',\n",
       " 'Friedkin 2001',\n",
       " 'but not invariably; see Feldman 1984; Kitts 2006',\n",
       " 'Alexander et al. 1970',\n",
       " 'Zucker 1977',\n",
       " 'Suchman 1995; Johnson, Dowd, and Ridgeway 2006',\n",
       " 'Harrison and Carroll 2002']"
      ]
     },
     "execution_count": 14,
     "metadata": {},
     "output_type": "execute_result"
    }
   ],
   "source": [
    "citation"
   ]
  },
  {
   "cell_type": "code",
   "execution_count": 16,
   "id": "ade77057-95b6-4e1f-a76e-a366a88f71db",
   "metadata": {},
   "outputs": [],
   "source": [
    "del_str = ['see ','i.e., ','e.g., ']\n",
    "#函数名：left delete string.\n",
    "#读入一个字符串列表l，如果字符串的开头为str_list中的字符串，则把这一小段删掉\n",
    "def ldel_str(l,str_list):\n",
    "    for i in range(len(l)):\n",
    "        l[i] = l[i].lstrip(' ')\n",
    "        #print(l[i])\n",
    "        for j in str_list:\n",
    "            #print(j)\n",
    "            if len(l[i])>=len(j):\n",
    "                if l[i][:len(j)]==j:\n",
    "                    l[i]=l[i][len(j):]\n",
    "    return l"
   ]
  },
  {
   "cell_type": "code",
   "execution_count": 21,
   "id": "e27d7b0a-5e91-4d95-ac2b-f5345081fe90",
   "metadata": {
    "scrolled": true,
    "tags": []
   },
   "outputs": [
    {
     "data": {
      "text/plain": [
       "['January',\n",
       " 'Jan.',\n",
       " 'February',\n",
       " 'Feb.',\n",
       " 'March',\n",
       " 'Mar.',\n",
       " 'April',\n",
       " 'Ari.',\n",
       " 'May',\n",
       " 'May.June',\n",
       " 'Jun.',\n",
       " 'July',\n",
       " 'Jul.August',\n",
       " 'Aut.',\n",
       " 'September',\n",
       " 'Sep.',\n",
       " 'October',\n",
       " 'Oct.',\n",
       " 'November',\n",
       " 'Nov.',\n",
       " 'December',\n",
       " 'Dec.']"
      ]
     },
     "execution_count": 21,
     "metadata": {},
     "output_type": "execute_result"
    }
   ],
   "source": [
    "month = ['January','Jan.','February','Feb.','March','Mar.','April','Ari.','May','May.''June','Jun.','July','Jul.''August', 'Aut.','September','Sep.','October','Oct.','November','Nov.','December','Dec.']\n",
    "month"
   ]
  },
  {
   "cell_type": "code",
   "execution_count": 29,
   "id": "77fdb198-6d45-4a56-88a4-663696b5a2f4",
   "metadata": {},
   "outputs": [],
   "source": [
    "c_split = []\n",
    "\n",
    "for i in citation:\n",
    "    temp = i.split(\";\")\n",
    "    #print('temp:',temp)\n",
    "    temp_l = ldel_str(temp,del_str)\n",
    "    #print('temp_l:',temp_l)\n",
    "    temp_l1 = [x for x in temp_l if (x[-4:].isdigit() & (x.split(' ')[-2].lstrip(' ') not in month))]\n",
    "    #print('temp_l1:',temp_l1)\n",
    "    c_split = c_split + temp_l1\n",
    "    #print('c_split:',c_split)"
   ]
  },
  {
   "cell_type": "code",
   "execution_count": 30,
   "id": "63f114d8-ae1a-4ccd-91c5-20026261bb4e",
   "metadata": {},
   "outputs": [
    {
     "data": {
      "text/plain": [
       "38"
      ]
     },
     "execution_count": 30,
     "metadata": {},
     "output_type": "execute_result"
    }
   ],
   "source": [
    "len(c_split)"
   ]
  },
  {
   "cell_type": "code",
   "execution_count": 31,
   "id": "e0ad3391-d694-43b4-82cd-d7088b0a0c1e",
   "metadata": {},
   "outputs": [
    {
     "data": {
      "text/plain": [
       "['Scott and Meyer 1994',\n",
       " 'Cole-man 1982, 1990',\n",
       " 'Hannan and Freeman 1989',\n",
       " 'Argote and Greve 2007',\n",
       " 'Alexander, Zucker, and Brody 1970',\n",
       " 'Friedkin 2001',\n",
       " 'Gavetti, Levinthal, and Ocasio 2007',\n",
       " 'Zucker 1977',\n",
       " 'Tajfel 1982',\n",
       " 'Albert and Whetten 1985',\n",
       " 'Davis 1991',\n",
       " 'Gavetti et al. 2007',\n",
       " 'Johnson, Dowd, and Ridgeway 2006',\n",
       " 'Harrison and Carroll 2002',\n",
       " 'Ashforth and Mael 1989',\n",
       " 'Feldman 1984',\n",
       " 'Suchman 1995',\n",
       " 'McPherson and Ranger-Moore 1991',\n",
       " 'DiMaggio and Powell 1983',\n",
       " 'Scott 2004',\n",
       " 'McPherson 1983',\n",
       " 'Kitts 2006',\n",
       " 'Ouchi and Wilkins 1985',\n",
       " 'Perrow 1979, 2002',\n",
       " 'Eccles and Barber 1999',\n",
       " 'Strang and Soule 1998',\n",
       " 'Gioia and Poole 1984',\n",
       " 'Ellemers, Spears, and Doosje 2002',\n",
       " 'Barber, Eccles, and Stone 2001',\n",
       " 'Alexander et al. 1970',\n",
       " 'Gioia et al. 2010']"
      ]
     },
     "execution_count": 31,
     "metadata": {},
     "output_type": "execute_result"
    }
   ],
   "source": [
    "c = list(set(c_split))\n",
    "c"
   ]
  },
  {
   "cell_type": "code",
   "execution_count": 32,
   "id": "3d3e0fa5-34f4-4e24-95c7-df246161f37b",
   "metadata": {},
   "outputs": [
    {
     "data": {
      "text/plain": [
       "31"
      ]
     },
     "execution_count": 32,
     "metadata": {},
     "output_type": "execute_result"
    }
   ],
   "source": [
    "len(c)"
   ]
  },
  {
   "cell_type": "code",
   "execution_count": null,
   "id": "53e2733b-2c2d-41c8-94f0-9a43650eabb7",
   "metadata": {},
   "outputs": [],
   "source": []
  }
 ],
 "metadata": {
  "kernelspec": {
   "display_name": "Python 3 (ipykernel)",
   "language": "python",
   "name": "python3"
  },
  "language_info": {
   "codemirror_mode": {
    "name": "ipython",
    "version": 3
   },
   "file_extension": ".py",
   "mimetype": "text/x-python",
   "name": "python",
   "nbconvert_exporter": "python",
   "pygments_lexer": "ipython3",
   "version": "3.9.7"
  }
 },
 "nbformat": 4,
 "nbformat_minor": 5
}
