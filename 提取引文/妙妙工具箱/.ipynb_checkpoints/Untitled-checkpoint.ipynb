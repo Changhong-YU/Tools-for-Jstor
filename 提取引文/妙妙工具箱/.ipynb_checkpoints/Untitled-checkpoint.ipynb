{
 "cells": [
  {
   "cell_type": "code",
   "execution_count": 1,
   "id": "45b47960-dd75-48fd-afc1-25e3574a0f90",
   "metadata": {},
   "outputs": [],
   "source": [
    "temp_l = ['bbb, Abbott 1997, p. 1158']"
   ]
  },
  {
   "cell_type": "code",
   "execution_count": 2,
   "id": "6f2080a6-afb8-4c06-a2fa-c956efe6158a",
   "metadata": {},
   "outputs": [
    {
     "data": {
      "text/plain": [
       "'p.'"
      ]
     },
     "execution_count": 2,
     "metadata": {},
     "output_type": "execute_result"
    }
   ],
   "source": [
    "a = temp_l[0].split(',')[-1].lstrip(' ')[:2]\n",
    "a"
   ]
  },
  {
   "cell_type": "code",
   "execution_count": 3,
   "id": "8ecaaa06-f9ec-4506-9fc1-11c6b5ac1885",
   "metadata": {},
   "outputs": [
    {
     "data": {
      "text/plain": [
       "'bbb, Abbott 1997'"
      ]
     },
     "execution_count": 3,
     "metadata": {},
     "output_type": "execute_result"
    }
   ],
   "source": [
    "temp_l[0] = ','.join(temp_l[0].split(',')[:-1])\n",
    "temp_l[0]"
   ]
  },
  {
   "cell_type": "code",
   "execution_count": 4,
   "id": "9f4fb604-8c08-4baa-b574-e5370530830b",
   "metadata": {},
   "outputs": [
    {
     "data": {
      "text/plain": [
       "['bbb, Abbott 1997']"
      ]
     },
     "execution_count": 4,
     "metadata": {},
     "output_type": "execute_result"
    }
   ],
   "source": [
    "temp_l"
   ]
  },
  {
   "cell_type": "code",
   "execution_count": 2,
   "id": "08a32ded-4040-4412-b558-c16b9fb7f533",
   "metadata": {},
   "outputs": [
    {
     "name": "stdout",
     "output_type": "stream",
     "text": [
      "dddd\n"
     ]
    }
   ],
   "source": [
    "for i in range(len(temp_l)):\n",
    "    if temp_l[i].split(',')[-1].lstrip(' ')[:2]==\"p.\":\n",
    "        print('dddd')\n",
    "        temp_l[i] = ','.join(temp_l[i].split(',')[:-1])"
   ]
  },
  {
   "cell_type": "code",
   "execution_count": 3,
   "id": "8217af1e-7d83-48f0-9dec-4ee6eb3d8303",
   "metadata": {},
   "outputs": [
    {
     "data": {
      "text/plain": [
       "['bbb, Abbott 1997']"
      ]
     },
     "execution_count": 3,
     "metadata": {},
     "output_type": "execute_result"
    }
   ],
   "source": [
    "temp_l"
   ]
  },
  {
   "cell_type": "code",
   "execution_count": null,
   "id": "a0937b62-66bf-4eb8-a2b6-4a308d036543",
   "metadata": {},
   "outputs": [],
   "source": []
  },
  {
   "cell_type": "code",
   "execution_count": null,
   "id": "1be3d41d-f4a1-4b6e-ba94-54172ad05ba2",
   "metadata": {},
   "outputs": [],
   "source": []
  },
  {
   "cell_type": "code",
   "execution_count": null,
   "id": "893b3634-11de-44fa-b1af-61b31f07d96c",
   "metadata": {},
   "outputs": [],
   "source": []
  },
  {
   "cell_type": "code",
   "execution_count": null,
   "id": "3ba7bf1c-0893-486e-a597-7a531309bf3b",
   "metadata": {},
   "outputs": [],
   "source": []
  },
  {
   "cell_type": "code",
   "execution_count": 52,
   "id": "c204d064-eba0-481a-a636-d7452b7bace4",
   "metadata": {},
   "outputs": [],
   "source": [
    "temp_l2 = ['Albert and Whetten 1985','Aral and Van Alstyne 2011','Argote and Greve 2007','Ashforth and Mael 1989','Barabási and Albert 1999','Alexander, Zucker, and Brody 1970','Barash et al. 2012','Barash, Cameron, and Macy 2012','Alexander et al. 1970','Barber et al. 2001','Barber, Eccles, and Stone 2001']"
   ]
  },
  {
   "cell_type": "code",
   "execution_count": 37,
   "id": "57498bfd-52e4-40f4-9505-8b7b4b03039f",
   "metadata": {},
   "outputs": [
    {
     "name": "stdout",
     "output_type": "stream",
     "text": [
      "['Albert and Whetten 1985', 'Aral and Van Alstyne 2011', 'Argote and Greve 2007', 'Ashforth and Mael 1989', 'Barabási and Albert 1999', 'Alexander, Zucker, and Brody 1970', 'Barash et al. 2012', 'Barash, Cameron, and Macy 2012', 'Alexander et al. 1970', 'Barber et al. 2001', 'Barber, Eccles, and Stone 2001']\n",
      "['Albert and Whetten 1985', 'Alexander et al. 1970', 'Alexander, Zucker, and Brody 1970', 'Aral and Van Alstyne 2011', 'Argote and Greve 2007', 'Ashforth and Mael 1989', 'Barabási and Albert 1999', 'Barash et al. 2012', 'Barash, Cameron, and Macy 2012', 'Barber et al. 2001', 'Barber, Eccles, and Stone 2001']\n"
     ]
    }
   ],
   "source": [
    "print(temp_l2)\n",
    "print(sorted(temp_l2))"
   ]
  },
  {
   "cell_type": "code",
   "execution_count": 53,
   "id": "3386188a-2566-4062-a032-7b03c4965462",
   "metadata": {},
   "outputs": [
    {
     "name": "stdout",
     "output_type": "stream",
     "text": [
      "Alexander et al. 1970\n",
      "Alexander, Zucker, and Brody 1970\n",
      "Alexander\n",
      "1970\n",
      "Alexander, Zucker, and Brody 1970\n",
      "1\n",
      "dddddddddddddddddd\n",
      "Aral and Van Alstyne 2011\n",
      "Aral and Van Alstyne 2011\n",
      "2011\n",
      "Argote and Greve 2007\n",
      "Argote and Greve 2007\n",
      "2007\n",
      "Ashforth and Mael 1989\n",
      "Ashforth and Mael 1989\n",
      "1989\n",
      "Barash et al. 2012\n",
      "Barash, Cameron, and Macy 2012\n",
      "Barash\n",
      "2012\n",
      "Barash, Cameron, and Macy 2012\n",
      "2\n",
      "dddddddddddddddddd\n",
      "Barber et al. 2001\n",
      "Barber et al. 2001\n",
      "2001\n",
      "Barber, Eccles, and Stone 2001\n",
      "Barber\n",
      "2001\n",
      "Barber et al. 2001\n",
      "Barber, Eccles, and Stone 2001\n",
      "Barber\n",
      "2001\n",
      "Barber, Eccles, and Stone 2001\n",
      "3\n",
      "dddddddddddddddddd\n"
     ]
    }
   ],
   "source": [
    "        temp_l2 = sorted(temp_l2)\n",
    "        c = 0\n",
    "\n",
    "        for i in range(len(temp_l2)):\n",
    "            if 'et al.' in temp_l2[i]:\n",
    "                print(temp_l2[i])\n",
    "                n = temp_l2[i].split(' ')[0]\n",
    "                year = temp_l2[i].split(' ')[-1]\n",
    "                for j in range(min(i+1,len(temp_l2)),min(i+5,len(temp_l2))):\n",
    "                    print(temp_l2[j])\n",
    "                    n1 = temp_l2[j].split(',')[0]\n",
    "                    print(n1)\n",
    "                    year1 = temp_l2[j].split(',')[-1][-4:]\n",
    "                    print(year1)\n",
    "                    if (n==n1) & (year==year1):\n",
    "                        temp_l2[i] = temp_l2[j]\n",
    "                        print(temp_l2[i])\n",
    "                        c = c+1\n",
    "                        print(c)\n",
    "                        print('dddddddddddddddddd')"
   ]
  },
  {
   "cell_type": "code",
   "execution_count": null,
   "id": "f92332a7-37ad-4f00-9b89-e167cf8d382a",
   "metadata": {},
   "outputs": [],
   "source": []
  },
  {
   "cell_type": "code",
   "execution_count": 54,
   "id": "a45aab73-d558-458d-8642-70e4a4873180",
   "metadata": {},
   "outputs": [
    {
     "data": {
      "text/plain": [
       "['Albert and Whetten 1985',\n",
       " 'Alexander, Zucker, and Brody 1970',\n",
       " 'Alexander, Zucker, and Brody 1970',\n",
       " 'Aral and Van Alstyne 2011',\n",
       " 'Argote and Greve 2007',\n",
       " 'Ashforth and Mael 1989',\n",
       " 'Barabási and Albert 1999',\n",
       " 'Barash, Cameron, and Macy 2012',\n",
       " 'Barash, Cameron, and Macy 2012',\n",
       " 'Barber, Eccles, and Stone 2001',\n",
       " 'Barber, Eccles, and Stone 2001']"
      ]
     },
     "execution_count": 54,
     "metadata": {},
     "output_type": "execute_result"
    }
   ],
   "source": [
    "temp_l2"
   ]
  },
  {
   "cell_type": "code",
   "execution_count": 1,
   "id": "3f4b7bdf-8fd8-4b73-9381-787df891bd78",
   "metadata": {},
   "outputs": [],
   "source": [
    "temp_l2 = ['Marsden 1987, 1988']"
   ]
  },
  {
   "cell_type": "code",
   "execution_count": 7,
   "id": "a655c939-c416-44ac-93a5-c2f3001edc01",
   "metadata": {},
   "outputs": [
    {
     "name": "stdout",
     "output_type": "stream",
     "text": [
      "['Marsden 1987, 1988']\n",
      "['Marsden 1987', ' 1988']\n",
      "Marsden 1988\n",
      "['Marsden 1987', 'Marsden 1988']\n"
     ]
    }
   ],
   "source": [
    "for i in range(len(temp_l2)):\n",
    "    print(temp_l2)\n",
    "    temp = temp_l2[i].split(', ')\n",
    "    print(temp)\n",
    "    try:\n",
    "        if temp[-2][-4:].isdigit():\n",
    "            temp[-1] = temp[0].split(' ')[0] + temp[-1]\n",
    "            print(temp[-1])\n",
    "    except:\n",
    "        pass\n",
    "    print(temp)\n",
    "    "
   ]
  },
  {
   "cell_type": "code",
   "execution_count": null,
   "id": "5e3eb844-72f9-4c3f-8cf6-0becbbeff6d2",
   "metadata": {},
   "outputs": [],
   "source": []
  }
 ],
 "metadata": {
  "kernelspec": {
   "display_name": "Python 3 (ipykernel)",
   "language": "python",
   "name": "python3"
  },
  "language_info": {
   "codemirror_mode": {
    "name": "ipython",
    "version": 3
   },
   "file_extension": ".py",
   "mimetype": "text/x-python",
   "name": "python",
   "nbconvert_exporter": "python",
   "pygments_lexer": "ipython3",
   "version": "3.9.7"
  }
 },
 "nbformat": 4,
 "nbformat_minor": 5
}
