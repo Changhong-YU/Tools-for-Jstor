{
 "cells": [
  {
   "cell_type": "markdown",
   "id": "69415a23-3baf-4085-9081-5f53e4d50bd3",
   "metadata": {},
   "source": [
    "## 一、准备工作"
   ]
  },
  {
   "cell_type": "code",
   "execution_count": 1,
   "id": "f77a388e-70c8-4765-b39b-09aedc3c08b5",
   "metadata": {},
   "outputs": [],
   "source": [
    "import pandas as pd\n",
    "import numpy as np\n",
    "import os,sys\n",
    "def flushPrint(s):\n",
    "    sys.stdout.write('\\r')\n",
    "    sys.stdout.write('%s' % s)\n",
    "    sys.stdout.flush()"
   ]
  },
  {
   "cell_type": "markdown",
   "id": "6a7dc6ca-c693-4226-b8be-73243d21b99e",
   "metadata": {},
   "source": [
    "## 二、数据提取和清理的函数"
   ]
  },
  {
   "cell_type": "markdown",
   "id": "11be3dcd-8fa3-4300-9e73-96a699fdc882",
   "metadata": {},
   "source": [
    "### 1. 提取所有括号内的内容"
   ]
  },
  {
   "cell_type": "code",
   "execution_count": 2,
   "id": "ac68661e-ff08-40ad-8cc3-c4a4a8bbc734",
   "metadata": {},
   "outputs": [],
   "source": [
    "def extract_citation(filename):\n",
    "    #print(''.join([data_path,filename]))\n",
    "    df = pd.read_csv(''.join([data_path,filename]),sep='/t',header=None,engine='python')\n",
    "    df.columns =[\"x\"]\n",
    "    #print(filename,\"中有\",len(df),'个段落。')\n",
    "    s = \"\"\n",
    "    for i in range(len(df)):\n",
    "        if df['x'][i][-1]=='-':\n",
    "            s = ''.join([s,df['x'][i][:-2]])\n",
    "        else:\n",
    "            s = ''.join([s,df['x'][i]])\n",
    "    #print(filename,\"中有\",len(s),'个字符。')\n",
    "    l = s.split(\")\")\n",
    "    #print(filename,\"共提取到括号\",len(l),'个。')\n",
    "    citation = []\n",
    "    for i in range(len(l)):\n",
    "        if len(l[i])>4:\n",
    "            if l[i][-4].isdigit():\n",
    "                if len(l[i].split(\"(\")[-1])>4:\n",
    "                    citation.append(l[i].split(\"(\")[-1])\n",
    "                else:\n",
    "                    temp1 = l[i].split(\"(\")[-1]\n",
    "                    temp2 = l[i].split(\"(\")[-2].split(\" \")[-2]\n",
    "                    if temp2[-2:]=='’s':\n",
    "                        temp2 = temp2[:-2]\n",
    "                    citation.append(' '.join([temp2,temp1]))\n",
    "    #flushPrint(''.join([filename,'引文提取成功。']))\n",
    "    return citation"
   ]
  },
  {
   "cell_type": "markdown",
   "id": "b4dd7443-e4d4-4acf-a997-c8f2de553e94",
   "metadata": {},
   "source": [
    "### 2. 清理括号内容"
   ]
  },
  {
   "cell_type": "code",
   "execution_count": 3,
   "id": "ade77057-95b6-4e1f-a76e-a366a88f71db",
   "metadata": {},
   "outputs": [],
   "source": [
    "#删除不必要的字符串\n",
    "del_str = ['but','see','also','i.e.,','e.g.,']\n",
    "#函数名：left delete string.\n",
    "#读入一个字符串列表l，如果列表中字符串的开头为str_list中的字符串，则把这一小段删掉\n",
    "def ldel_str(l,str_list):\n",
    "    for i in range(len(l)):\n",
    "        l[i] = l[i].lstrip(' ')\n",
    "        #print(l[i])\n",
    "        for j in str_list:\n",
    "            #print(j)\n",
    "            if len(l[i])>=len(j):\n",
    "                if l[i][:len(j)]==j:\n",
    "                    l[i] = l[i][len(j):]\n",
    "                    l[i] = l[i].lstrip(' ')\n",
    "    return l"
   ]
  },
  {
   "cell_type": "code",
   "execution_count": 4,
   "id": "f2eab9dd-3557-420b-80d7-d108146c3172",
   "metadata": {},
   "outputs": [],
   "source": [
    "#为删除“月份 年分”格式的非引用信息做准备\n",
    "month = ['January','Jan.','February','Feb.','March','Mar.','April','Ari.','May','May.''June','Jun.','July','Jul.''August', 'Aut.','September','Sep.','October','Oct.','November','Nov.','December','Dec.']"
   ]
  },
  {
   "cell_type": "code",
   "execution_count": 5,
   "id": "e27d7b0a-5e91-4d95-ac2b-f5345081fe90",
   "metadata": {
    "scrolled": true,
    "tags": []
   },
   "outputs": [],
   "source": [
    "#对每一个括号内的内容进行操作\n",
    "def citation_cleansing(citation):\n",
    "    c_split = []\n",
    "\n",
    "    for i in citation:\n",
    "        #切割\n",
    "        temp = i.split(\";\")\n",
    "        #print('temp:',temp)\n",
    "        \n",
    "        #去开头\n",
    "        temp_l = ldel_str(temp,del_str)\n",
    "        #print('temp_l:',temp_l)\n",
    "        \n",
    "        #去掉末尾页数\n",
    "        for i in range(len(temp_l)):\n",
    "            if temp_l[i].split(',')[-1].lstrip(' ')[:2]==\"p.\":\n",
    "                temp_l[i] = ','.join(temp_l[i].split(',')[:-1])\n",
    "            \n",
    "            \n",
    "        #去掉末尾不是数字或开头是月份的字符串\n",
    "        try:\n",
    "            temp_l1 = [x for x in temp_l if (x[-4:].isdigit() & (x.split(' ')[-2].lstrip(' ') not in month))]\n",
    "        except:\n",
    "            pass\n",
    "        #print('temp_l1:',temp_l1)\n",
    "        \n",
    "        #去掉长度大于50的异常值\n",
    "        temp_l2 = [x for x in temp_l1 if len(x)<50]\n",
    "        \n",
    "        #将同作者年份并列的文献分开\n",
    "        temp_l3 = []\n",
    "        for i in range(len(temp_l2)):\n",
    "            f = 0\n",
    "            #print(temp_l2)\n",
    "            temp = temp_l2[i].split(', ')\n",
    "            #print(temp)\n",
    "            try:\n",
    "                if temp[-2][-4:].isdigit():\n",
    "                    temp[-1] = ' '.join(temp[0].split(' ')[:-1]) +' '+ temp[-1]\n",
    "                    #print(temp[-1])\n",
    "                    f = 1\n",
    "            except:\n",
    "                pass\n",
    "            #print(temp)\n",
    "            if f==0:\n",
    "                temp_l3.append(temp_l2[i])\n",
    "            else:\n",
    "                temp_l3 = temp_l3 + temp\n",
    "        \n",
    "        #记录最终结果\n",
    "        good = temp_l3\n",
    "        \n",
    "        #记录过滤后的字符串\n",
    "        c_split = c_split + good\n",
    "        #print('c_split:',c_split)\n",
    "    return c_split"
   ]
  },
  {
   "cell_type": "markdown",
   "id": "801f35bf-668a-4f0c-bf73-b71553408bc4",
   "metadata": {},
   "source": [
    "### 3. 去重 "
   ]
  },
  {
   "cell_type": "code",
   "execution_count": 6,
   "id": "e0ad3391-d694-43b4-82cd-d7088b0a0c1e",
   "metadata": {},
   "outputs": [],
   "source": [
    "#去重，对引文列表整体进行操作\n",
    "def remove_duplicate(l):\n",
    "    #删除“-”\n",
    "    c = 0\n",
    "    for i in range(len(l)):\n",
    "        if '-' in l[i]:\n",
    "            l[i] = l[i].replace('-','')\n",
    "            c += 1\n",
    "    #print('共删除',c,'个“-”')\n",
    "        \n",
    "    #将省略的作者复原\n",
    "    l = sorted(l)\n",
    "    #print(l)\n",
    "    c = 0\n",
    "    n = ''\n",
    "    year = ''\n",
    "    n1 = ''\n",
    "    year1 = ''\n",
    "\n",
    "    for i in range(len(l)):\n",
    "        if 'et al.' in l[i]:\n",
    "            #print(l[i])\n",
    "            n = l[i].split(' ')[0]\n",
    "            year = l[i].split(' ')[-1]\n",
    "            for j in range(min(i+1,len(l)),min(i+5,len(l))):\n",
    "                #print(l[j])\n",
    "                n1 = l[j].split(',')[0]\n",
    "                #print(n1)\n",
    "                year1 = l[j].split(',')[-1][-4:]\n",
    "                #print(year1)\n",
    "                if (n==n1) & (year==year1):\n",
    "                    l[i] = l[j]\n",
    "                    #print(l[i])\n",
    "                    c = c+1\n",
    "    #print('共修改',c,'个省略。')\n",
    "    \n",
    "    #去重并排序\n",
    "    result = sorted(list(set(l)))\n",
    "    #第一个字母应为大写，否则略去\n",
    "    result = [n for n in result if n[0].isupper()]\n",
    "    return result"
   ]
  },
  {
   "cell_type": "markdown",
   "id": "a2dad539-9cf0-40b1-abfc-00daebfb6d9a",
   "metadata": {},
   "source": [
    "### 4. 保存引文数量和引文信息"
   ]
  },
  {
   "cell_type": "code",
   "execution_count": 7,
   "id": "b100f85e-f0c9-4ed1-aeb1-c0229c82181f",
   "metadata": {},
   "outputs": [],
   "source": [
    "#储存引文数量\n",
    "def store_number(dictionary, filename):\n",
    "    result = pd.DataFrame(dictionary)\n",
    "    out = \"\".join([out_path, filename, '.xlsx'])\n",
    "    print(f\"Writing data to {out}\")\n",
    "    result.to_excel(out)"
   ]
  },
  {
   "cell_type": "code",
   "execution_count": 8,
   "id": "a1b06e36-9b13-4ff4-96bd-c182459b01cb",
   "metadata": {},
   "outputs": [],
   "source": [
    "#储存引文信息\n",
    "def store_citation(filename,citation_list):\n",
    "    with open(''.join([citation_out_path,filename]),\"w\") as f:\n",
    "        for i in citation_list:\n",
    "            f.writelines(''.join([i,'\\n']))\n",
    "    f.close()"
   ]
  },
  {
   "cell_type": "markdown",
   "id": "2c9e6967-7ca7-4293-9edf-97d7160930a7",
   "metadata": {},
   "source": [
    "## 主函数"
   ]
  },
  {
   "cell_type": "code",
   "execution_count": 9,
   "id": "223b8493-c0fa-4b0f-a78b-1625c05ca9cf",
   "metadata": {},
   "outputs": [],
   "source": [
    "#设定输入和输出路径\n",
    "data_path = './文章/'\n",
    "citation_out_path = './引文信息/'\n",
    "out_path = './'\n",
    "\n",
    "#读取文件目录\n",
    "file_list = [n for n in os.listdir(data_path) if '.txt' in n] "
   ]
  },
  {
   "cell_type": "code",
   "execution_count": 10,
   "id": "0dfb29c8-cd10-4227-be7f-ee72199bb7c4",
   "metadata": {},
   "outputs": [],
   "source": [
    "#len(file_list)"
   ]
  },
  {
   "cell_type": "code",
   "execution_count": 11,
   "id": "fb66dde4-c0da-45ba-bd79-d7fdf3b0b44f",
   "metadata": {},
   "outputs": [
    {
     "name": "stdout",
     "output_type": "stream",
     "text": [
      "\n",
      " 1 个文件全部计数成功。\n"
     ]
    }
   ],
   "source": [
    "#提取引用数量和引文信息\n",
    "n = []\n",
    "count = 0\n",
    "for i in file_list:\n",
    "    citation = extract_citation(i)\n",
    "    clesnsing = citation_cleansing(citation)\n",
    "    citation_list = remove_duplicate(clesnsing)\n",
    "    n.append(len(citation_list))\n",
    "    store_citation(i,citation_list)\n",
    "    count += 1\n",
    "if count == len(file_list):\n",
    "    print('\\n',len(file_list),\"个文件全部计数成功。\")\n",
    "else:\n",
    "    print('\\n',(len(file_list)-count),\"个文件读取失败，请检查代码。\")"
   ]
  },
  {
   "cell_type": "code",
   "execution_count": 12,
   "id": "e30a334d-b6c9-48eb-9fc3-946ea72f08cb",
   "metadata": {},
   "outputs": [
    {
     "name": "stdout",
     "output_type": "stream",
     "text": [
      "Writing data to ./引文数量总表.xlsx\n"
     ]
    }
   ],
   "source": [
    "#保存文献目录和计数结果\n",
    "name_dic = {\"Article\":file_list, \"Citation\": n}\n",
    "store_number(name_dic,'引文数量总表')"
   ]
  },
  {
   "cell_type": "code",
   "execution_count": null,
   "id": "752d4197-9487-4e23-9432-7a039eef2359",
   "metadata": {},
   "outputs": [],
   "source": []
  }
 ],
 "metadata": {
  "kernelspec": {
   "display_name": "Python 3 (ipykernel)",
   "language": "python",
   "name": "python3"
  },
  "language_info": {
   "codemirror_mode": {
    "name": "ipython",
    "version": 3
   },
   "file_extension": ".py",
   "mimetype": "text/x-python",
   "name": "python",
   "nbconvert_exporter": "python",
   "pygments_lexer": "ipython3",
   "version": "3.9.7"
  }
 },
 "nbformat": 4,
 "nbformat_minor": 5
}
