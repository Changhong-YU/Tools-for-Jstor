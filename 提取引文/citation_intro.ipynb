{
 "cells": [
  {
   "cell_type": "code",
   "execution_count": 1,
   "id": "9fdade8a",
   "metadata": {},
   "outputs": [],
   "source": [
    "import numpy as np\n",
    "import pandas as pd\n",
    "import re"
   ]
  },
  {
   "cell_type": "code",
   "execution_count": 2,
   "id": "e588875d",
   "metadata": {},
   "outputs": [
    {
     "name": "stderr",
     "output_type": "stream",
     "text": [
      "C:\\Users\\yswqd\\anaconda3\\lib\\site-packages\\pandas\\util\\_decorators.py:311: ParserWarning: Falling back to the 'python' engine because the 'c' engine does not support regex separators (separators > 1 char and different from '\\s+' are interpreted as regex); you can avoid this warning by specifying engine='python'.\n",
      "  return func(*args, **kwargs)\n"
     ]
    },
    {
     "data": {
      "text/html": [
       "<div>\n",
       "<style scoped>\n",
       "    .dataframe tbody tr th:only-of-type {\n",
       "        vertical-align: middle;\n",
       "    }\n",
       "\n",
       "    .dataframe tbody tr th {\n",
       "        vertical-align: top;\n",
       "    }\n",
       "\n",
       "    .dataframe thead th {\n",
       "        text-align: right;\n",
       "    }\n",
       "</style>\n",
       "<table border=\"1\" class=\"dataframe\">\n",
       "  <thead>\n",
       "    <tr style=\"text-align: right;\">\n",
       "      <th></th>\n",
       "      <th>0</th>\n",
       "    </tr>\n",
       "  </thead>\n",
       "  <tbody>\n",
       "    <tr>\n",
       "      <th>0</th>\n",
       "      <td>Organizations, and organizational competition,...</td>\n",
       "    </tr>\n",
       "    <tr>\n",
       "      <th>1</th>\n",
       "      <td>1 Preliminary versions of this article were pr...</td>\n",
       "    </tr>\n",
       "  </tbody>\n",
       "</table>\n",
       "</div>"
      ],
      "text/plain": [
       "                                                   0\n",
       "0  Organizations, and organizational competition,...\n",
       "1  1 Preliminary versions of this article were pr..."
      ]
     },
     "execution_count": 2,
     "metadata": {},
     "output_type": "execute_result"
    }
   ],
   "source": [
    "df = pd.read_csv('./intro - 2017 - In the Organization_s Shadow - Matthew E. Brashears; Michael Genkin; Chan S. Suh.txt',sep='/t',header=None)\n",
    "df.head(2)"
   ]
  },
  {
   "cell_type": "code",
   "execution_count": 3,
   "id": "88fde417",
   "metadata": {},
   "outputs": [],
   "source": [
    "str = df.to_string()"
   ]
  },
  {
   "cell_type": "code",
   "execution_count": 4,
   "id": "ac285e0b",
   "metadata": {},
   "outputs": [
    {
     "data": {
      "text/plain": [
       "['                                                                                                                                                                                                                                                                                                                                                                                                                                                                                                                                                                                                                                                                                                                                                                                                                                                                                                                                                                                                                                                                                                                                                                                                                                                                                                                                                                                                                                                                                                                                                                                                                                                                                                                                                                                                                                                                                                                                                                                                                                                                                                                                                                                                                                                                                                                                                                                                                                                                                                                                                                                                                                                                                                                                                                                                                                                                                                                                                                                                                                                                                                                                                                                                                                                                                                                                                                                                                                                                                                                                                                                                                                                                                                                                                                                                                                                                                                                                                                                                                                                                                                                                                                                                                                                                                                                                                                                                                                                                                                                                                                                                                                                                                                                                                                                                                                                                                                                                                                                                                                                                                                                                                                               0\\n0                                                                                                                                                                                                                                                                                                                                                                                                                                                                                                                                                                                                                                                                                                                                                                                                                                                                                                                                                                                                                                                                                                                                                                                                                                                                                                                                                                                                                                                                                                                                                                                                                                                                                                                                                                                                                                                                                                                                                                                                                                                                                                                                                                                                                                                                                                                                                                                                                                                                                                                                                                                                                                                                                                                                                                                                                                                                                                                                                                                                                                                                                                                                                                                                                                                                                                                                                                                                                                                                                                                                                                                                                                                                                                                                                                                                                                                                                                                                                                                                                                                                                                                                                                                                                                                                                                                                                                                                                                                                                                                                                                                                                                                                                                                                                                                                                                                                   Organizations, and organizational competition, affect individual behavior. Organizations are unique social entities that exhibit behaviors ',\n",
       " 'Argote and Greve 2007; Gavetti, Levinthal, and Ocasio 2007',\n",
       " 'Albert and Whetten 1985; Gioia et al. 2010',\n",
       " 'November 2017',\n",
       " 'Alexander, Zucker, and Brody 1970; Zucker 1977',\n",
       " 'see Scott 2004',\n",
       " 'Davis 1991; Strang and Soule 1998',\n",
       " 'DiMaggio and Powell 1983',\n",
       " 'McPherson 1983; McPherson and Ranger-Moore 1991',\n",
       " 'Hannan and Freeman 1989',\n",
       " 'i.e., high organizational competition',\n",
       " '1983',\n",
       " 'HDTRA-10-1-0043',\n",
       " 'R01 HD040428-02',\n",
       " 'REC-0126167',\n",
       " 'both conventional and delinquent',\n",
       " 'e.g., Perrow 1979, 2002; Cole-\\n10                                                                                                                                                                                                                                                                                                                                                                                                                                                                                                                                                                                                                                                                                                                                                                                                                                                                                                                                                                                                                                                                                                                                                                                                                                                                                                                                                                                                                                                                                                                                                                                                                                                                                                                                                                                                                                                                                                                                                                                                                                                                                                                                                                                                                                                                                                                                                                                                                                                                                                                                                                                                                                                                                                                                                                                                                                                                                                                                                                                                                                                                                                                                                                                                                                                                                                                                                                                                                                                                                                                                                                                                                                                                                                                                                                                                                                                                                                                                                                                                                                                                                                                                                                                                                                                                                                                                                                                                                                                                                                                                                                                                                               man 1982, 1990',\n",
       " 'King, Felin, and Whetten 2010, p. 291',\n",
       " 'Argote and Greve 2007; Gavetti et al. 2007',\n",
       " 'Albert and Whetten 1985; Gioia et al. 2010',\n",
       " 'Gioia and Poole 1984',\n",
       " 'e.g., Scott and Meyer 1994',\n",
       " 'Ouchi and Wilkins 1985',\n",
       " 'Tajfel 1982; Ashforth and Mael 1989; Ellemers, Spears, and Doosje 2002',\n",
       " 'e.g., Ashforth and Mael 1989; Eccles and Barber 1999; Barber, Eccles, and Stone 2001',\n",
       " 'i.e., members of an “organizational .eld”; see DiMaggio and Powell 1983',\n",
       " 'Friedkin 2001',\n",
       " 'but not invariably; see Feldman 1984; Kitts 2006',\n",
       " 'Alexander et al. 1970',\n",
       " 'Zucker 1977',\n",
       " 'Suchman 1995; Johnson, Dowd, and Ridgeway 2006',\n",
       " 'Harrison and Carroll 2002',\n",
       " 'see Scott 2004',\n",
       " 'Strang and Soule 1998',\n",
       " 'e.g., Holden 1986; Davis 1991; Conell and Cohn 1995',\n",
       " 'DiMaggio and Powell 1983',\n",
       " 'Feld 1981',\n",
       " 'Useem 1984',\n",
       " 'Uzzi 1997; Ingram and Roberts 2000',\n",
       " 'see Rotchford and Roberts 1982',\n",
       " '1978',\n",
       " 'Kohn and Schooler 1982',\n",
       " '1981',\n",
       " '2006',\n",
       " 'e.g., debate team, French club',\n",
       " 'e.g., cheerleading',\n",
       " 'see also Wilson and Musick 1999',\n",
       " 'Ashforth and Mael 1989; Hornsey 2008',\n",
       " 'Eccles and Barber 1999; Barber et al. 2001',\n",
       " 'Brady, Verba, and Schlozman 1995',\n",
       " 'e.g., job complexity, po-litical salience',\n",
       " 'i.e., cul-ture',\n",
       " 'e.g., Zajonc 1968; Saegert, Swap, and Zajonc 1973; Brockner and Swap 1976; Swap 1977; Moreland and Zajonc 1982',\n",
       " 'Zucker 1977',\n",
       " 'Walker, Thomas, and Zelditch 1986',\n",
       " 'i.e., socially appropriate',\n",
       " 'i.e., that a behavior is appropriate for oneself ',\n",
       " 'Walker and Zelditch 1993; Zel-ditch and Walker 2003',\n",
       " 'e.g., friends, romantic partners',\n",
       " 'e.g., eating in the same restaurant, waiting at the same bus stop',\n",
       " 'e.g., Giordano 2003; Crosnoe et al. 2008; Frank et al. 2008; Frank, Muller, and Mueller 2013; Sun et al. 2013',\n",
       " 'discussed more fully below',\n",
       " 'e.g., if a member is a “friend of a friend”',\n",
       " 'discussed more extensively below',\n",
       " 'i.e., if organizational leakage occurs',\n",
       " 'i.e., norma-tive',\n",
       " 'e.g., Borgonovi 2008',\n",
       " 'e.g., a county or country',\n",
       " 'Kelley and De Graaf 1997; Ruiter and De Graaf 2006; Lim and MacGregor 2012; but see also Ruiter and De Graaf 2010; Van der Meer, Te Grotenhuis, and Pelzer 2010',\n",
       " 'e.g., Friedkin and Johnsen 1997; Friedkin 2001',\n",
       " 'McPherson 1983; McPherson and Ranger-Moore 1991',\n",
       " 'Lazarsfeld and Merton 1954',\n",
       " 'e.g., “birds of a feather .ock together”',\n",
       " 'e.g., McPherson, Smith-Lovin, and Cook 2001; Smith, McPherson, and Smith-Lovin 2014',\n",
       " 'Marsden 1987, 1988; Smith et al. 2014',\n",
       " 'Brashears 2008b',\n",
       " 'i.e., individual networks tend to be populated by those who are nearby in a Blau space model',\n",
       " 'Granovetter 1995; Bewley 1999; Marsden and Gorman 2001',\n",
       " 'i.e., area in a Blau space model',\n",
       " 'i.e., member time and attention',\n",
       " 'i.e., the same population segment',\n",
       " 'e.g., Ku, Malhotra, and Murninghan 2005; Kilduff, Elfenbein, and Staw 2010',\n",
       " '1983',\n",
       " 'Granovetter 1995',\n",
       " 'Aral and Van Alstyne 2011',\n",
       " 'Marin 2012',\n",
       " 'Feld 1981',\n",
       " 'e.g., Hannan and Freeman 1989',\n",
       " '2003',\n",
       " 'Popielarz and McPher-son 1995; McPherson and Rotolo 1996',\n",
       " 'i.e., population segments that are being recruited by many or-ganizations',\n",
       " 'i.e., population segments that are being recruited by few, or no, organizations',\n",
       " 'i.e., the carrying capacity of the system',\n",
       " 'McPherson and Ranger-Moore 1991',\n",
       " 'Mark 2003',\n",
       " 'Mark 1998; Bonikowski 2010',\n",
       " 'McPherson 2004',\n",
       " '2017',\n",
       " 'see Bla-lock 1984; Abbott 1997',\n",
       " 'Erbring and Young 1979',\n",
       " 'i.e., network ties',\n",
       " 'e.g., Marsden and Friedkin 1993; Kirke 2004; Centola 2010; Mercken et al. 2010; Friedkin and Johnsen 2011; Bond et al. 2012',\n",
       " 'e.g., McCarty, Killworth, and Rennell 2007',\n",
       " 'McCarty et al. 2001; Roberts et al. 2008; DiPrete et al. 2011',\n",
       " 'Killworth et al. 1990',\n",
       " 'Lewis, Gonzalez, and Kaufman 2012',\n",
       " 'i.e., it comes to mind more readily',\n",
       " 'i.e., endorses the behavior',\n",
       " 'Dalton et al. 2003; Sargent 2005',\n",
       " 'Zajonc 1968; Saegert et al. 1973; Brockner and Swap 1976; Swap 1977; Moreland and Zajonc 1982',\n",
       " '2013',\n",
       " 'i.e., casual contacts',\n",
       " '2003',\n",
       " 'see also Brown, Eicher, and Petrie 1986; Eder and Parker 1987',\n",
       " 'see also Frank 2009',\n",
       " 'Field et al. 2006; Frank et al. 2008',\n",
       " 'Feld 1981',\n",
       " 'Crosnoe et al. 2008; Frank et al. 2008',\n",
       " 'Frank et al. 2013',\n",
       " '2013',\n",
       " 'e.g., pub-lic transport or course schedule',\n",
       " 'e.g., Burt 1980',\n",
       " 'e.g., friendship ties',\n",
       " 'e.g., Coleman, Katz, and Menzel 1966; Christakis and Fowler 2007',\n",
       " 'Van den Bulte and Lilien 2001; Cohen-Cole and Fletcher 2008a, 2008b',\n",
       " 'Dawkins [1976] 2006',\n",
       " 'Hogg and Terry 2000',\n",
       " 'Rogers 2003',\n",
       " 'by structural effects',\n",
       " 'e.g., persons of similar socioeconomic status [SES] are more likely to share neighborhoods than those of disparate SES',\n",
       " 'see below for a longer discussion of this issue',\n",
       " '2013',\n",
       " 'e.g., extracurricular activities, places of residence']"
      ]
     },
     "execution_count": 4,
     "metadata": {},
     "output_type": "execute_result"
    }
   ],
   "source": [
    "temp1 = str.split('(')\n",
    "l = []\n",
    "for i in range(0,len(temp1)):\n",
    "    l.append(temp1[i].split(')')[0])\n",
    "l"
   ]
  },
  {
   "cell_type": "code",
   "execution_count": 5,
   "id": "72eb1253",
   "metadata": {},
   "outputs": [
    {
     "name": "stdout",
     "output_type": "stream",
     "text": [
      "[[], ['Argote and Greve 2007; Gavetti, Levinthal, and Ocasio 2007'], ['Albert and Whetten 1985; Gioia et al. 2010'], ['November 2017'], ['Alexander, Zucker, and Brody 1970; Zucker 1977'], ['see Scott 2004'], ['Davis 1991; Strang and Soule 1998'], ['DiMaggio and Powell 1983'], ['McPherson 1983; McPherson and Ranger-Moore 1991'], ['Hannan and Freeman 1989'], [], ['1983'], ['HDTRA-10-1-0043'], [], ['REC-0126167'], [], ['10                                                                                                                                                                                                                                                                                                                                                                                                                                                                                                                                                                                                                                                                                                                                                                                                                                                                                                                                                                                                                                                                                                                                                                                                                                                                                                                                                                                                                                                                                                                                                                                                                                                                                                                                                                                                                                                                                                                                                                                                                                                                                                                                                                                                                                                                                                                                                                                                                                                                                                                                                                                                                                                                                                                                                                                                                                                                                                                                                                                                                                                                                                                                                                                                                                                                                                                                                                                                                                                                                                                                                                                                                                                                                                                                                                                                                                                                                                                                                                                                                                                                                                                                                                                                                                                                                                                                                                                                                                                                                                                                                                                                                               man 1982, 1990'], [], ['Argote and Greve 2007; Gavetti et al. 2007'], ['Albert and Whetten 1985; Gioia et al. 2010'], ['Gioia and Poole 1984'], ['e.g., Scott and Meyer 1994'], ['Ouchi and Wilkins 1985'], ['Tajfel 1982; Ashforth and Mael 1989; Ellemers, Spears, and Doosje 2002'], ['e.g., Ashforth and Mael 1989; Eccles and Barber 1999; Barber, Eccles, and Stone 2001'], ['i.e., members of an “organizational .eld”; see DiMaggio and Powell 1983'], ['Friedkin 2001'], ['but not invariably; see Feldman 1984; Kitts 2006'], ['Alexander et al. 1970'], ['Zucker 1977'], ['Suchman 1995; Johnson, Dowd, and Ridgeway 2006'], ['Harrison and Carroll 2002'], ['see Scott 2004'], ['Strang and Soule 1998'], ['e.g., Holden 1986; Davis 1991; Conell and Cohn 1995'], ['DiMaggio and Powell 1983'], ['Feld 1981'], ['Useem 1984'], ['Uzzi 1997; Ingram and Roberts 2000'], ['see Rotchford and Roberts 1982'], ['1978'], ['Kohn and Schooler 1982'], ['1981'], ['2006'], [], [], ['see also Wilson and Musick 1999'], ['Ashforth and Mael 1989; Hornsey 2008'], ['Eccles and Barber 1999; Barber et al. 2001'], ['Brady, Verba, and Schlozman 1995'], [], [], ['e.g., Zajonc 1968; Saegert, Swap, and Zajonc 1973; Brockner and Swap 1976; Swap 1977; Moreland and Zajonc 1982'], ['Zucker 1977'], ['Walker, Thomas, and Zelditch 1986'], [], [], ['Walker and Zelditch 1993; Zel-ditch and Walker 2003'], [], [], ['e.g., Giordano 2003; Crosnoe et al. 2008; Frank et al. 2008; Frank, Muller, and Mueller 2013; Sun et al. 2013'], [], [], [], [], [], ['e.g., Borgonovi 2008'], [], ['Kelley and De Graaf 1997; Ruiter and De Graaf 2006; Lim and MacGregor 2012; but see also Ruiter and De Graaf 2010; Van der Meer, Te Grotenhuis, and Pelzer 2010'], ['e.g., Friedkin and Johnsen 1997; Friedkin 2001'], ['McPherson 1983; McPherson and Ranger-Moore 1991'], ['Lazarsfeld and Merton 1954'], [], ['e.g., McPherson, Smith-Lovin, and Cook 2001; Smith, McPherson, and Smith-Lovin 2014'], ['Marsden 1987, 1988; Smith et al. 2014'], [], [], ['Granovetter 1995; Bewley 1999; Marsden and Gorman 2001'], [], [], [], ['e.g., Ku, Malhotra, and Murninghan 2005; Kilduff, Elfenbein, and Staw 2010'], ['1983'], ['Granovetter 1995'], ['Aral and Van Alstyne 2011'], ['Marin 2012'], ['Feld 1981'], ['e.g., Hannan and Freeman 1989'], ['2003'], ['Popielarz and McPher-son 1995; McPherson and Rotolo 1996'], [], [], [], ['McPherson and Ranger-Moore 1991'], ['Mark 2003'], ['Mark 1998; Bonikowski 2010'], ['McPherson 2004'], ['2017'], ['see Bla-lock 1984; Abbott 1997'], ['Erbring and Young 1979'], [], ['e.g., Marsden and Friedkin 1993; Kirke 2004; Centola 2010; Mercken et al. 2010; Friedkin and Johnsen 2011; Bond et al. 2012'], ['e.g., McCarty, Killworth, and Rennell 2007'], ['McCarty et al. 2001; Roberts et al. 2008; DiPrete et al. 2011'], ['Killworth et al. 1990'], ['Lewis, Gonzalez, and Kaufman 2012'], [], [], ['Dalton et al. 2003; Sargent 2005'], ['Zajonc 1968; Saegert et al. 1973; Brockner and Swap 1976; Swap 1977; Moreland and Zajonc 1982'], ['2013'], [], ['2003'], ['see also Brown, Eicher, and Petrie 1986; Eder and Parker 1987'], ['see also Frank 2009'], ['Field et al. 2006; Frank et al. 2008'], ['Feld 1981'], ['Crosnoe et al. 2008; Frank et al. 2008'], ['Frank et al. 2013'], ['2013'], [], ['e.g., Burt 1980'], [], ['e.g., Coleman, Katz, and Menzel 1966; Christakis and Fowler 2007'], [], ['Dawkins [1976] 2006'], ['Hogg and Terry 2000'], ['Rogers 2003'], [], [], [], ['2013'], []]\n"
     ]
    }
   ],
   "source": [
    "l1 = []\n",
    "for i in range(0,len(l)):\n",
    "    l1.append(re.findall('(.*[0-9]{4}$)', l[i]))\n",
    "print(l1)"
   ]
  },
  {
   "cell_type": "code",
   "execution_count": 6,
   "id": "07e5022b",
   "metadata": {},
   "outputs": [
    {
     "name": "stdout",
     "output_type": "stream",
     "text": [
      "[['Argote and Greve 2007; Gavetti, Levinthal, and Ocasio 2007'], ['Albert and Whetten 1985; Gioia et al. 2010'], ['November 2017'], ['Alexander, Zucker, and Brody 1970; Zucker 1977'], ['see Scott 2004'], ['Davis 1991; Strang and Soule 1998'], ['DiMaggio and Powell 1983'], ['McPherson 1983; McPherson and Ranger-Moore 1991'], ['Hannan and Freeman 1989'], ['1983'], ['HDTRA-10-1-0043'], ['REC-0126167'], ['10                                                                                                                                                                                                                                                                                                                                                                                                                                                                                                                                                                                                                                                                                                                                                                                                                                                                                                                                                                                                                                                                                                                                                                                                                                                                                                                                                                                                                                                                                                                                                                                                                                                                                                                                                                                                                                                                                                                                                                                                                                                                                                                                                                                                                                                                                                                                                                                                                                                                                                                                                                                                                                                                                                                                                                                                                                                                                                                                                                                                                                                                                                                                                                                                                                                                                                                                                                                                                                                                                                                                                                                                                                                                                                                                                                                                                                                                                                                                                                                                                                                                                                                                                                                                                                                                                                                                                                                                                                                                                                                                                                                                                               man 1982, 1990'], ['Argote and Greve 2007; Gavetti et al. 2007'], ['Albert and Whetten 1985; Gioia et al. 2010'], ['Gioia and Poole 1984'], ['e.g., Scott and Meyer 1994'], ['Ouchi and Wilkins 1985'], ['Tajfel 1982; Ashforth and Mael 1989; Ellemers, Spears, and Doosje 2002'], ['e.g., Ashforth and Mael 1989; Eccles and Barber 1999; Barber, Eccles, and Stone 2001'], ['i.e., members of an “organizational .eld”; see DiMaggio and Powell 1983'], ['Friedkin 2001'], ['but not invariably; see Feldman 1984; Kitts 2006'], ['Alexander et al. 1970'], ['Zucker 1977'], ['Suchman 1995; Johnson, Dowd, and Ridgeway 2006'], ['Harrison and Carroll 2002'], ['see Scott 2004'], ['Strang and Soule 1998'], ['e.g., Holden 1986; Davis 1991; Conell and Cohn 1995'], ['DiMaggio and Powell 1983'], ['Feld 1981'], ['Useem 1984'], ['Uzzi 1997; Ingram and Roberts 2000'], ['see Rotchford and Roberts 1982'], ['1978'], ['Kohn and Schooler 1982'], ['1981'], ['2006'], ['see also Wilson and Musick 1999'], ['Ashforth and Mael 1989; Hornsey 2008'], ['Eccles and Barber 1999; Barber et al. 2001'], ['Brady, Verba, and Schlozman 1995'], ['e.g., Zajonc 1968; Saegert, Swap, and Zajonc 1973; Brockner and Swap 1976; Swap 1977; Moreland and Zajonc 1982'], ['Zucker 1977'], ['Walker, Thomas, and Zelditch 1986'], ['Walker and Zelditch 1993; Zel-ditch and Walker 2003'], ['e.g., Giordano 2003; Crosnoe et al. 2008; Frank et al. 2008; Frank, Muller, and Mueller 2013; Sun et al. 2013'], ['e.g., Borgonovi 2008'], ['Kelley and De Graaf 1997; Ruiter and De Graaf 2006; Lim and MacGregor 2012; but see also Ruiter and De Graaf 2010; Van der Meer, Te Grotenhuis, and Pelzer 2010'], ['e.g., Friedkin and Johnsen 1997; Friedkin 2001'], ['McPherson 1983; McPherson and Ranger-Moore 1991'], ['Lazarsfeld and Merton 1954'], ['e.g., McPherson, Smith-Lovin, and Cook 2001; Smith, McPherson, and Smith-Lovin 2014'], ['Marsden 1987, 1988; Smith et al. 2014'], ['Granovetter 1995; Bewley 1999; Marsden and Gorman 2001'], ['e.g., Ku, Malhotra, and Murninghan 2005; Kilduff, Elfenbein, and Staw 2010'], ['1983'], ['Granovetter 1995'], ['Aral and Van Alstyne 2011'], ['Marin 2012'], ['Feld 1981'], ['e.g., Hannan and Freeman 1989'], ['2003'], ['Popielarz and McPher-son 1995; McPherson and Rotolo 1996'], ['McPherson and Ranger-Moore 1991'], ['Mark 2003'], ['Mark 1998; Bonikowski 2010'], ['McPherson 2004'], ['2017'], ['see Bla-lock 1984; Abbott 1997'], ['Erbring and Young 1979'], ['e.g., Marsden and Friedkin 1993; Kirke 2004; Centola 2010; Mercken et al. 2010; Friedkin and Johnsen 2011; Bond et al. 2012'], ['e.g., McCarty, Killworth, and Rennell 2007'], ['McCarty et al. 2001; Roberts et al. 2008; DiPrete et al. 2011'], ['Killworth et al. 1990'], ['Lewis, Gonzalez, and Kaufman 2012'], ['Dalton et al. 2003; Sargent 2005'], ['Zajonc 1968; Saegert et al. 1973; Brockner and Swap 1976; Swap 1977; Moreland and Zajonc 1982'], ['2013'], ['2003'], ['see also Brown, Eicher, and Petrie 1986; Eder and Parker 1987'], ['see also Frank 2009'], ['Field et al. 2006; Frank et al. 2008'], ['Feld 1981'], ['Crosnoe et al. 2008; Frank et al. 2008'], ['Frank et al. 2013'], ['2013'], ['e.g., Burt 1980'], ['e.g., Coleman, Katz, and Menzel 1966; Christakis and Fowler 2007'], ['Dawkins [1976] 2006'], ['Hogg and Terry 2000'], ['Rogers 2003'], ['2013']]\n"
     ]
    }
   ],
   "source": [
    "while [] in l1: \n",
    "    l1.remove([])\n",
    "print(l1)"
   ]
  },
  {
   "cell_type": "code",
   "execution_count": 7,
   "id": "5ec09af6",
   "metadata": {},
   "outputs": [
    {
     "name": "stdout",
     "output_type": "stream",
     "text": [
      "[['Argote and Greve 2007', ' Gavetti, Levinthal, and Ocasio 2007'], ['Albert and Whetten 1985', ' Gioia et al. 2010'], ['November 2017'], ['Alexander, Zucker, and Brody 1970', ' Zucker 1977'], ['see Scott 2004'], ['Davis 1991', ' Strang and Soule 1998'], ['DiMaggio and Powell 1983'], ['McPherson 1983', ' McPherson and Ranger-Moore 1991'], ['Hannan and Freeman 1989'], ['1983'], ['HDTRA-10-1-0043'], ['REC-0126167'], ['10                                                                                                                                                                                                                                                                                                                                                                                                                                                                                                                                                                                                                                                                                                                                                                                                                                                                                                                                                                                                                                                                                                                                                                                                                                                                                                                                                                                                                                                                                                                                                                                                                                                                                                                                                                                                                                                                                                                                                                                                                                                                                                                                                                                                                                                                                                                                                                                                                                                                                                                                                                                                                                                                                                                                                                                                                                                                                                                                                                                                                                                                                                                                                                                                                                                                                                                                                                                                                                                                                                                                                                                                                                                                                                                                                                                                                                                                                                                                                                                                                                                                                                                                                                                                                                                                                                                                                                                                                                                                                                                                                                                                                               man 1982, 1990'], ['Argote and Greve 2007', ' Gavetti et al. 2007'], ['Albert and Whetten 1985', ' Gioia et al. 2010'], ['Gioia and Poole 1984'], ['e.g., Scott and Meyer 1994'], ['Ouchi and Wilkins 1985'], ['Tajfel 1982', ' Ashforth and Mael 1989', ' Ellemers, Spears, and Doosje 2002'], ['e.g., Ashforth and Mael 1989', ' Eccles and Barber 1999', ' Barber, Eccles, and Stone 2001'], ['i.e., members of an “organizational .eld”', ' see DiMaggio and Powell 1983'], ['Friedkin 2001'], ['but not invariably', ' see Feldman 1984', ' Kitts 2006'], ['Alexander et al. 1970'], ['Zucker 1977'], ['Suchman 1995', ' Johnson, Dowd, and Ridgeway 2006'], ['Harrison and Carroll 2002'], ['see Scott 2004'], ['Strang and Soule 1998'], ['e.g., Holden 1986', ' Davis 1991', ' Conell and Cohn 1995'], ['DiMaggio and Powell 1983'], ['Feld 1981'], ['Useem 1984'], ['Uzzi 1997', ' Ingram and Roberts 2000'], ['see Rotchford and Roberts 1982'], ['1978'], ['Kohn and Schooler 1982'], ['1981'], ['2006'], ['see also Wilson and Musick 1999'], ['Ashforth and Mael 1989', ' Hornsey 2008'], ['Eccles and Barber 1999', ' Barber et al. 2001'], ['Brady, Verba, and Schlozman 1995'], ['e.g., Zajonc 1968', ' Saegert, Swap, and Zajonc 1973', ' Brockner and Swap 1976', ' Swap 1977', ' Moreland and Zajonc 1982'], ['Zucker 1977'], ['Walker, Thomas, and Zelditch 1986'], ['Walker and Zelditch 1993', ' Zel-ditch and Walker 2003'], ['e.g., Giordano 2003', ' Crosnoe et al. 2008', ' Frank et al. 2008', ' Frank, Muller, and Mueller 2013', ' Sun et al. 2013'], ['e.g., Borgonovi 2008'], ['Kelley and De Graaf 1997', ' Ruiter and De Graaf 2006', ' Lim and MacGregor 2012', ' but see also Ruiter and De Graaf 2010', ' Van der Meer, Te Grotenhuis, and Pelzer 2010'], ['e.g., Friedkin and Johnsen 1997', ' Friedkin 2001'], ['McPherson 1983', ' McPherson and Ranger-Moore 1991'], ['Lazarsfeld and Merton 1954'], ['e.g., McPherson, Smith-Lovin, and Cook 2001', ' Smith, McPherson, and Smith-Lovin 2014'], ['Marsden 1987, 1988', ' Smith et al. 2014'], ['Granovetter 1995', ' Bewley 1999', ' Marsden and Gorman 2001'], ['e.g., Ku, Malhotra, and Murninghan 2005', ' Kilduff, Elfenbein, and Staw 2010'], ['1983'], ['Granovetter 1995'], ['Aral and Van Alstyne 2011'], ['Marin 2012'], ['Feld 1981'], ['e.g., Hannan and Freeman 1989'], ['2003'], ['Popielarz and McPher-son 1995', ' McPherson and Rotolo 1996'], ['McPherson and Ranger-Moore 1991'], ['Mark 2003'], ['Mark 1998', ' Bonikowski 2010'], ['McPherson 2004'], ['2017'], ['see Bla-lock 1984', ' Abbott 1997'], ['Erbring and Young 1979'], ['e.g., Marsden and Friedkin 1993', ' Kirke 2004', ' Centola 2010', ' Mercken et al. 2010', ' Friedkin and Johnsen 2011', ' Bond et al. 2012'], ['e.g., McCarty, Killworth, and Rennell 2007'], ['McCarty et al. 2001', ' Roberts et al. 2008', ' DiPrete et al. 2011'], ['Killworth et al. 1990'], ['Lewis, Gonzalez, and Kaufman 2012'], ['Dalton et al. 2003', ' Sargent 2005'], ['Zajonc 1968', ' Saegert et al. 1973', ' Brockner and Swap 1976', ' Swap 1977', ' Moreland and Zajonc 1982'], ['2013'], ['2003'], ['see also Brown, Eicher, and Petrie 1986', ' Eder and Parker 1987'], ['see also Frank 2009'], ['Field et al. 2006', ' Frank et al. 2008'], ['Feld 1981'], ['Crosnoe et al. 2008', ' Frank et al. 2008'], ['Frank et al. 2013'], ['2013'], ['e.g., Burt 1980'], ['e.g., Coleman, Katz, and Menzel 1966', ' Christakis and Fowler 2007'], ['Dawkins [1976] 2006'], ['Hogg and Terry 2000'], ['Rogers 2003'], ['2013']]\n"
     ]
    }
   ],
   "source": [
    "l2 = []\n",
    "for i in range(0,len(l1)):\n",
    "    temp = l1[i][0]\n",
    "    l2.append(temp.split(';'))\n",
    "print(l2)"
   ]
  },
  {
   "cell_type": "code",
   "execution_count": 8,
   "id": "4b9531ef",
   "metadata": {},
   "outputs": [
    {
     "name": "stdout",
     "output_type": "stream",
     "text": [
      "['Argote and Greve 2007', ' Gavetti, Levinthal, and Ocasio 2007', 'Albert and Whetten 1985', ' Gioia et al. 2010', 'November 2017', 'Alexander, Zucker, and Brody 1970', ' Zucker 1977', 'see Scott 2004', 'Davis 1991', ' Strang and Soule 1998', 'DiMaggio and Powell 1983', 'McPherson 1983', ' McPherson and Ranger-Moore 1991', 'Hannan and Freeman 1989', '1983', 'HDTRA-10-1-0043', 'REC-0126167', '10                                                                                                                                                                                                                                                                                                                                                                                                                                                                                                                                                                                                                                                                                                                                                                                                                                                                                                                                                                                                                                                                                                                                                                                                                                                                                                                                                                                                                                                                                                                                                                                                                                                                                                                                                                                                                                                                                                                                                                                                                                                                                                                                                                                                                                                                                                                                                                                                                                                                                                                                                                                                                                                                                                                                                                                                                                                                                                                                                                                                                                                                                                                                                                                                                                                                                                                                                                                                                                                                                                                                                                                                                                                                                                                                                                                                                                                                                                                                                                                                                                                                                                                                                                                                                                                                                                                                                                                                                                                                                                                                                                                                                               man 1982, 1990', 'Argote and Greve 2007', ' Gavetti et al. 2007', 'Albert and Whetten 1985', ' Gioia et al. 2010', 'Gioia and Poole 1984', 'e.g., Scott and Meyer 1994', 'Ouchi and Wilkins 1985', 'Tajfel 1982', ' Ashforth and Mael 1989', ' Ellemers, Spears, and Doosje 2002', 'e.g., Ashforth and Mael 1989', ' Eccles and Barber 1999', ' Barber, Eccles, and Stone 2001', 'i.e., members of an “organizational .eld”', ' see DiMaggio and Powell 1983', 'Friedkin 2001', 'but not invariably', ' see Feldman 1984', ' Kitts 2006', 'Alexander et al. 1970', 'Zucker 1977', 'Suchman 1995', ' Johnson, Dowd, and Ridgeway 2006', 'Harrison and Carroll 2002', 'see Scott 2004', 'Strang and Soule 1998', 'e.g., Holden 1986', ' Davis 1991', ' Conell and Cohn 1995', 'DiMaggio and Powell 1983', 'Feld 1981', 'Useem 1984', 'Uzzi 1997', ' Ingram and Roberts 2000', 'see Rotchford and Roberts 1982', '1978', 'Kohn and Schooler 1982', '1981', '2006', 'see also Wilson and Musick 1999', 'Ashforth and Mael 1989', ' Hornsey 2008', 'Eccles and Barber 1999', ' Barber et al. 2001', 'Brady, Verba, and Schlozman 1995', 'e.g., Zajonc 1968', ' Saegert, Swap, and Zajonc 1973', ' Brockner and Swap 1976', ' Swap 1977', ' Moreland and Zajonc 1982', 'Zucker 1977', 'Walker, Thomas, and Zelditch 1986', 'Walker and Zelditch 1993', ' Zel-ditch and Walker 2003', 'e.g., Giordano 2003', ' Crosnoe et al. 2008', ' Frank et al. 2008', ' Frank, Muller, and Mueller 2013', ' Sun et al. 2013', 'e.g., Borgonovi 2008', 'Kelley and De Graaf 1997', ' Ruiter and De Graaf 2006', ' Lim and MacGregor 2012', ' but see also Ruiter and De Graaf 2010', ' Van der Meer, Te Grotenhuis, and Pelzer 2010', 'e.g., Friedkin and Johnsen 1997', ' Friedkin 2001', 'McPherson 1983', ' McPherson and Ranger-Moore 1991', 'Lazarsfeld and Merton 1954', 'e.g., McPherson, Smith-Lovin, and Cook 2001', ' Smith, McPherson, and Smith-Lovin 2014', 'Marsden 1987, 1988', ' Smith et al. 2014', 'Granovetter 1995', ' Bewley 1999', ' Marsden and Gorman 2001', 'e.g., Ku, Malhotra, and Murninghan 2005', ' Kilduff, Elfenbein, and Staw 2010', '1983', 'Granovetter 1995', 'Aral and Van Alstyne 2011', 'Marin 2012', 'Feld 1981', 'e.g., Hannan and Freeman 1989', '2003', 'Popielarz and McPher-son 1995', ' McPherson and Rotolo 1996', 'McPherson and Ranger-Moore 1991', 'Mark 2003', 'Mark 1998', ' Bonikowski 2010', 'McPherson 2004', '2017', 'see Bla-lock 1984', ' Abbott 1997', 'Erbring and Young 1979', 'e.g., Marsden and Friedkin 1993', ' Kirke 2004', ' Centola 2010', ' Mercken et al. 2010', ' Friedkin and Johnsen 2011', ' Bond et al. 2012', 'e.g., McCarty, Killworth, and Rennell 2007', 'McCarty et al. 2001', ' Roberts et al. 2008', ' DiPrete et al. 2011', 'Killworth et al. 1990', 'Lewis, Gonzalez, and Kaufman 2012', 'Dalton et al. 2003', ' Sargent 2005', 'Zajonc 1968', ' Saegert et al. 1973', ' Brockner and Swap 1976', ' Swap 1977', ' Moreland and Zajonc 1982', '2013', '2003', 'see also Brown, Eicher, and Petrie 1986', ' Eder and Parker 1987', 'see also Frank 2009', 'Field et al. 2006', ' Frank et al. 2008', 'Feld 1981', 'Crosnoe et al. 2008', ' Frank et al. 2008', 'Frank et al. 2013', '2013', 'e.g., Burt 1980', 'e.g., Coleman, Katz, and Menzel 1966', ' Christakis and Fowler 2007', 'Dawkins [1976] 2006', 'Hogg and Terry 2000', 'Rogers 2003', '2013']\n"
     ]
    },
    {
     "data": {
      "text/plain": [
       "153"
      ]
     },
     "execution_count": 8,
     "metadata": {},
     "output_type": "execute_result"
    }
   ],
   "source": [
    "l3 = []\n",
    "for i in range(0,len(l2)):\n",
    "    for j in range(0,len(l2[i])):\n",
    "        l3.append(l2[i][j])\n",
    "print(l3)\n",
    "len(l3)"
   ]
  },
  {
   "cell_type": "code",
   "execution_count": 9,
   "id": "9874ea1c",
   "metadata": {},
   "outputs": [
    {
     "name": "stdout",
     "output_type": "stream",
     "text": [
      "[['Argote and Greve 2007'], [' Gavetti, Levinthal, and Ocasio 2007'], ['Albert and Whetten 1985'], [' Gioia et al. 2010'], ['November 2017'], ['Alexander, Zucker, and Brody 1970'], [' Zucker 1977'], ['see Scott 2004'], ['Davis 1991'], [' Strang and Soule 1998'], ['DiMaggio and Powell 1983'], ['McPherson 1983'], [' McPherson and Ranger-Moore 1991'], ['Hannan and Freeman 1989'], ['1983'], ['HDTRA-10-1-0043'], ['REC-0126167'], ['10                                                                                                                                                                                                                                                                                                                                                                                                                                                                                                                                                                                                                                                                                                                                                                                                                                                                                                                                                                                                                                                                                                                                                                                                                                                                                                                                                                                                                                                                                                                                                                                                                                                                                                                                                                                                                                                                                                                                                                                                                                                                                                                                                                                                                                                                                                                                                                                                                                                                                                                                                                                                                                                                                                                                                                                                                                                                                                                                                                                                                                                                                                                                                                                                                                                                                                                                                                                                                                                                                                                                                                                                                                                                                                                                                                                                                                                                                                                                                                                                                                                                                                                                                                                                                                                                                                                                                                                                                                                                                                                                                                                                                               man 1982, 1990'], ['Argote and Greve 2007'], [' Gavetti et al. 2007'], ['Albert and Whetten 1985'], [' Gioia et al. 2010'], ['Gioia and Poole 1984'], ['e.g., Scott and Meyer 1994'], ['Ouchi and Wilkins 1985'], ['Tajfel 1982'], [' Ashforth and Mael 1989'], [' Ellemers, Spears, and Doosje 2002'], ['e.g., Ashforth and Mael 1989'], [' Eccles and Barber 1999'], [' Barber, Eccles, and Stone 2001'], [], [' see DiMaggio and Powell 1983'], ['Friedkin 2001'], [], [' see Feldman 1984'], [' Kitts 2006'], ['Alexander et al. 1970'], ['Zucker 1977'], ['Suchman 1995'], [' Johnson, Dowd, and Ridgeway 2006'], ['Harrison and Carroll 2002'], ['see Scott 2004'], ['Strang and Soule 1998'], ['e.g., Holden 1986'], [' Davis 1991'], [' Conell and Cohn 1995'], ['DiMaggio and Powell 1983'], ['Feld 1981'], ['Useem 1984'], ['Uzzi 1997'], [' Ingram and Roberts 2000'], ['see Rotchford and Roberts 1982'], ['1978'], ['Kohn and Schooler 1982'], ['1981'], ['2006'], ['see also Wilson and Musick 1999'], ['Ashforth and Mael 1989'], [' Hornsey 2008'], ['Eccles and Barber 1999'], [' Barber et al. 2001'], ['Brady, Verba, and Schlozman 1995'], ['e.g., Zajonc 1968'], [' Saegert, Swap, and Zajonc 1973'], [' Brockner and Swap 1976'], [' Swap 1977'], [' Moreland and Zajonc 1982'], ['Zucker 1977'], ['Walker, Thomas, and Zelditch 1986'], ['Walker and Zelditch 1993'], [' Zel-ditch and Walker 2003'], ['e.g., Giordano 2003'], [' Crosnoe et al. 2008'], [' Frank et al. 2008'], [' Frank, Muller, and Mueller 2013'], [' Sun et al. 2013'], ['e.g., Borgonovi 2008'], ['Kelley and De Graaf 1997'], [' Ruiter and De Graaf 2006'], [' Lim and MacGregor 2012'], [' but see also Ruiter and De Graaf 2010'], [' Van der Meer, Te Grotenhuis, and Pelzer 2010'], ['e.g., Friedkin and Johnsen 1997'], [' Friedkin 2001'], ['McPherson 1983'], [' McPherson and Ranger-Moore 1991'], ['Lazarsfeld and Merton 1954'], ['e.g., McPherson, Smith-Lovin, and Cook 2001'], [' Smith, McPherson, and Smith-Lovin 2014'], ['Marsden 1987, 1988'], [' Smith et al. 2014'], ['Granovetter 1995'], [' Bewley 1999'], [' Marsden and Gorman 2001'], ['e.g., Ku, Malhotra, and Murninghan 2005'], [' Kilduff, Elfenbein, and Staw 2010'], ['1983'], ['Granovetter 1995'], ['Aral and Van Alstyne 2011'], ['Marin 2012'], ['Feld 1981'], ['e.g., Hannan and Freeman 1989'], ['2003'], ['Popielarz and McPher-son 1995'], [' McPherson and Rotolo 1996'], ['McPherson and Ranger-Moore 1991'], ['Mark 2003'], ['Mark 1998'], [' Bonikowski 2010'], ['McPherson 2004'], ['2017'], ['see Bla-lock 1984'], [' Abbott 1997'], ['Erbring and Young 1979'], ['e.g., Marsden and Friedkin 1993'], [' Kirke 2004'], [' Centola 2010'], [' Mercken et al. 2010'], [' Friedkin and Johnsen 2011'], [' Bond et al. 2012'], ['e.g., McCarty, Killworth, and Rennell 2007'], ['McCarty et al. 2001'], [' Roberts et al. 2008'], [' DiPrete et al. 2011'], ['Killworth et al. 1990'], ['Lewis, Gonzalez, and Kaufman 2012'], ['Dalton et al. 2003'], [' Sargent 2005'], ['Zajonc 1968'], [' Saegert et al. 1973'], [' Brockner and Swap 1976'], [' Swap 1977'], [' Moreland and Zajonc 1982'], ['2013'], ['2003'], ['see also Brown, Eicher, and Petrie 1986'], [' Eder and Parker 1987'], ['see also Frank 2009'], ['Field et al. 2006'], [' Frank et al. 2008'], ['Feld 1981'], ['Crosnoe et al. 2008'], [' Frank et al. 2008'], ['Frank et al. 2013'], ['2013'], ['e.g., Burt 1980'], ['e.g., Coleman, Katz, and Menzel 1966'], [' Christakis and Fowler 2007'], ['Dawkins [1976] 2006'], ['Hogg and Terry 2000'], ['Rogers 2003'], ['2013']]\n"
     ]
    }
   ],
   "source": [
    "l4 = []\n",
    "for i in range(0,len(l3)):\n",
    "    l4.append(re.findall('(.*[0-9]{4}$)', l3[i]))\n",
    "print(l4)"
   ]
  },
  {
   "cell_type": "code",
   "execution_count": 10,
   "id": "3bd6a0ff",
   "metadata": {},
   "outputs": [
    {
     "name": "stdout",
     "output_type": "stream",
     "text": [
      "['Argote and Greve 2007', ' Gavetti, Levinthal, and Ocasio 2007', 'Albert and Whetten 1985', ' Gioia et al. 2010', 'November 2017', 'Alexander, Zucker, and Brody 1970', ' Zucker 1977', 'see Scott 2004', 'Davis 1991', ' Strang and Soule 1998', 'DiMaggio and Powell 1983', 'McPherson 1983', ' McPherson and Ranger-Moore 1991', 'Hannan and Freeman 1989', '1983', 'HDTRA-10-1-0043', 'REC-0126167', '10                                                                                                                                                                                                                                                                                                                                                                                                                                                                                                                                                                                                                                                                                                                                                                                                                                                                                                                                                                                                                                                                                                                                                                                                                                                                                                                                                                                                                                                                                                                                                                                                                                                                                                                                                                                                                                                                                                                                                                                                                                                                                                                                                                                                                                                                                                                                                                                                                                                                                                                                                                                                                                                                                                                                                                                                                                                                                                                                                                                                                                                                                                                                                                                                                                                                                                                                                                                                                                                                                                                                                                                                                                                                                                                                                                                                                                                                                                                                                                                                                                                                                                                                                                                                                                                                                                                                                                                                                                                                                                                                                                                                                               man 1982, 1990', 'Argote and Greve 2007', ' Gavetti et al. 2007', 'Albert and Whetten 1985', ' Gioia et al. 2010', 'Gioia and Poole 1984', 'e.g., Scott and Meyer 1994', 'Ouchi and Wilkins 1985', 'Tajfel 1982', ' Ashforth and Mael 1989', ' Ellemers, Spears, and Doosje 2002', 'e.g., Ashforth and Mael 1989', ' Eccles and Barber 1999', ' Barber, Eccles, and Stone 2001', ' see DiMaggio and Powell 1983', 'Friedkin 2001', ' see Feldman 1984', ' Kitts 2006', 'Alexander et al. 1970', 'Zucker 1977', 'Suchman 1995', ' Johnson, Dowd, and Ridgeway 2006', 'Harrison and Carroll 2002', 'see Scott 2004', 'Strang and Soule 1998', 'e.g., Holden 1986', ' Davis 1991', ' Conell and Cohn 1995', 'DiMaggio and Powell 1983', 'Feld 1981', 'Useem 1984', 'Uzzi 1997', ' Ingram and Roberts 2000', 'see Rotchford and Roberts 1982', '1978', 'Kohn and Schooler 1982', '1981', '2006', 'see also Wilson and Musick 1999', 'Ashforth and Mael 1989', ' Hornsey 2008', 'Eccles and Barber 1999', ' Barber et al. 2001', 'Brady, Verba, and Schlozman 1995', 'e.g., Zajonc 1968', ' Saegert, Swap, and Zajonc 1973', ' Brockner and Swap 1976', ' Swap 1977', ' Moreland and Zajonc 1982', 'Zucker 1977', 'Walker, Thomas, and Zelditch 1986', 'Walker and Zelditch 1993', ' Zel-ditch and Walker 2003', 'e.g., Giordano 2003', ' Crosnoe et al. 2008', ' Frank et al. 2008', ' Frank, Muller, and Mueller 2013', ' Sun et al. 2013', 'e.g., Borgonovi 2008', 'Kelley and De Graaf 1997', ' Ruiter and De Graaf 2006', ' Lim and MacGregor 2012', ' but see also Ruiter and De Graaf 2010', ' Van der Meer, Te Grotenhuis, and Pelzer 2010', 'e.g., Friedkin and Johnsen 1997', ' Friedkin 2001', 'McPherson 1983', ' McPherson and Ranger-Moore 1991', 'Lazarsfeld and Merton 1954', 'e.g., McPherson, Smith-Lovin, and Cook 2001', ' Smith, McPherson, and Smith-Lovin 2014', 'Marsden 1987, 1988', ' Smith et al. 2014', 'Granovetter 1995', ' Bewley 1999', ' Marsden and Gorman 2001', 'e.g., Ku, Malhotra, and Murninghan 2005', ' Kilduff, Elfenbein, and Staw 2010', '1983', 'Granovetter 1995', 'Aral and Van Alstyne 2011', 'Marin 2012', 'Feld 1981', 'e.g., Hannan and Freeman 1989', '2003', 'Popielarz and McPher-son 1995', ' McPherson and Rotolo 1996', 'McPherson and Ranger-Moore 1991', 'Mark 2003', 'Mark 1998', ' Bonikowski 2010', 'McPherson 2004', '2017', 'see Bla-lock 1984', ' Abbott 1997', 'Erbring and Young 1979', 'e.g., Marsden and Friedkin 1993', ' Kirke 2004', ' Centola 2010', ' Mercken et al. 2010', ' Friedkin and Johnsen 2011', ' Bond et al. 2012', 'e.g., McCarty, Killworth, and Rennell 2007', 'McCarty et al. 2001', ' Roberts et al. 2008', ' DiPrete et al. 2011', 'Killworth et al. 1990', 'Lewis, Gonzalez, and Kaufman 2012', 'Dalton et al. 2003', ' Sargent 2005', 'Zajonc 1968', ' Saegert et al. 1973', ' Brockner and Swap 1976', ' Swap 1977', ' Moreland and Zajonc 1982', '2013', '2003', 'see also Brown, Eicher, and Petrie 1986', ' Eder and Parker 1987', 'see also Frank 2009', 'Field et al. 2006', ' Frank et al. 2008', 'Feld 1981', 'Crosnoe et al. 2008', ' Frank et al. 2008', 'Frank et al. 2013', '2013', 'e.g., Burt 1980', 'e.g., Coleman, Katz, and Menzel 1966', ' Christakis and Fowler 2007', 'Dawkins [1976] 2006', 'Hogg and Terry 2000', 'Rogers 2003', '2013']\n"
     ]
    },
    {
     "data": {
      "text/plain": [
       "151"
      ]
     },
     "execution_count": 10,
     "metadata": {},
     "output_type": "execute_result"
    }
   ],
   "source": [
    "l5 = []\n",
    "for i in range(0,len(l4)):\n",
    "    for j in range(0,len(l4[i])):\n",
    "        l5.append(l4[i][j])\n",
    "print(l5)\n",
    "len(l5)"
   ]
  },
  {
   "cell_type": "code",
   "execution_count": 11,
   "id": "9bc85c8c",
   "metadata": {},
   "outputs": [
    {
     "name": "stdout",
     "output_type": "stream",
     "text": [
      "['Argote and Greve 2007', 'Gavetti, Levinthal, and Ocasio 2007', 'Albert and Whetten 1985', 'Gioia et al. 2010', 'November 2017', 'Alexander, Zucker, and Brody 1970', 'Zucker 1977', 'Scott 2004', 'Davis 1991', 'Strang and Soule 1998', 'DiMaggio and Powell 1983', 'McPherson 1983', 'McPherson and Ranger-Moore 1991', 'Hannan and Freeman 1989', '1983', 'HDTRA-10-1-0043', 'REC-0126167', '10                                                                                                                                                                                                                                                                                                                                                                                                                                                                                                                                                                                                                                                                                                                                                                                                                                                                                                                                                                                                                                                                                                                                                                                                                                                                                                                                                                                                                                                                                                                                                                                                                                                                                                                                                                                                                                                                                                                                                                                                                                                                                                                                                                                                                                                                                                                                                                                                                                                                                                                                                                                                                                                                                                                                                                                                                                                                                                                                                                                                                                                                                                                                                                                                                                                                                                                                                                                                                                                                                                                                                                                                                                                                                                                                                                                                                                                                                                                                                                                                                                                                                                                                                                                                                                                                                                                                                                                                                                                                                                                                                                                                                               man 1982, 1990', 'Argote and Greve 2007', 'Gavetti et al. 2007', 'Albert and Whetten 1985', 'Gioia et al. 2010', 'Gioia and Poole 1984', 'Scott and Meyer 1994', 'Ouchi and Wilkins 1985', 'Tajfel 1982', 'Ashforth and Mael 1989', 'Ellemers, Spears, and Doosje 2002', 'Ashforth and Mael 1989', 'Eccles and Barber 1999', 'Barber, Eccles, and Stone 2001', ' DiMaggio and Powell 1983', 'Friedkin 2001', ' Feldman 1984', 'Kitts 2006', 'Alexander et al. 1970', 'Zucker 1977', 'Suchman 1995', 'Johnson, Dowd, and Ridgeway 2006', 'Harrison and Carroll 2002', 'Scott 2004', 'Strang and Soule 1998', 'Holden 1986', 'Davis 1991', 'Conell and Cohn 1995', 'DiMaggio and Powell 1983', 'Feld 1981', 'Um 1984', 'Uzzi 1997', 'Ingram and Roberts 2000', 'Rotchford and Roberts 1982', '1978', 'Kohn and Schooler 1982', '1981', '2006', 'Wilson and Musick 1999', 'Ashforth and Mael 1989', 'Hornsey 2008', 'Eccles and Barber 1999', 'Barber et al. 2001', 'Brady, Verba, and Schlozman 1995', 'Zajonc 1968', 'Saegert, Swap, and Zajonc 1973', 'Brockner and Swap 1976', 'Swap 1977', 'Moreland and Zajonc 1982', 'Zucker 1977', 'Walker, Thomas, and Zelditch 1986', 'Walker and Zelditch 1993', 'Zel-ditch and Walker 2003', 'Giordano 2003', 'Crosnoe et al. 2008', 'Frank et al. 2008', 'Frank, Muller, and Mueller 2013', 'Sun et al. 2013', 'Borgonovi 2008', 'Kelley and De Graaf 1997', 'Ruiter and De Graaf 2006', 'Lim and MacGregor 2012', ' Ruiter and De Graaf 2010', 'Van der Meer, Te Grotenhuis, and Pelzer 2010', 'Friedkin and Johnsen 1997', 'Friedkin 2001', 'McPherson 1983', 'McPherson and Ranger-Moore 1991', 'Lazarsfeld and Merton 1954', 'McPherson, Smith-Lovin, and Cook 2001', 'Smith, McPherson, and Smith-Lovin 2014', 'Marsden 1987, 1988', 'Smith et al. 2014', 'Granovetter 1995', 'Bewley 1999', 'Marsden and Gorman 2001', 'Ku, Malhotra, and Murninghan 2005', 'Kilduff, Elfenbein, and Staw 2010', '1983', 'Granovetter 1995', 'Aral and Van Alstyne 2011', 'Marin 2012', 'Feld 1981', 'Hannan and Freeman 1989', '2003', 'Popielarz and McPher-son 1995', 'McPherson and Rotolo 1996', 'McPherson and Ranger-Moore 1991', 'Mark 2003', 'Mark 1998', 'Bonikowski 2010', 'McPherson 2004', '2017', 'Bla-lock 1984', 'Abbott 1997', 'Erbring and Young 1979', 'Marsden and Friedkin 1993', 'Kirke 2004', 'Centola 2010', 'Mercken et al. 2010', 'Friedkin and Johnsen 2011', 'Bond et al. 2012', 'McCarty, Killworth, and Rennell 2007', 'McCarty et al. 2001', 'Roberts et al. 2008', 'DiPrete et al. 2011', 'Killworth et al. 1990', 'Lewis, Gonzalez, and Kaufman 2012', 'Dalton et al. 2003', 'Sargent 2005', 'Zajonc 1968', 'Saegert et al. 1973', 'Brockner and Swap 1976', 'Swap 1977', 'Moreland and Zajonc 1982', '2013', '2003', 'Brown, Eicher, and Petrie 1986', 'Eder and Parker 1987', 'Frank 2009', 'Field et al. 2006', 'Frank et al. 2008', 'Feld 1981', 'Crosnoe et al. 2008', 'Frank et al. 2008', 'Frank et al. 2013', '2013', 'Burt 1980', 'Coleman, Katz, and Menzel 1966', 'Christakis and Fowler 2007', 'Dawkins [1976] 2006', 'Hogg and Terry 2000', 'Rogers 2003', '2013']\n"
     ]
    }
   ],
   "source": [
    "for i in range(0,len(l5)):\n",
    "    l5[i] = l5[i].replace('e.g., ','')\n",
    "    l5[i] = l5[i].replace('see','')\n",
    "    l5[i] = l5[i].replace('but see ','')\n",
    "    l5[i] = l5[i].replace('also ','')\n",
    "    l5[i] = l5[i].replace('but ','')\n",
    "    l5[i] = l5[i].replace('/t','')\n",
    "    if l5[i][:1] == \" \": l5[i] = l5[i][1:] \n",
    "print(l5)"
   ]
  },
  {
   "cell_type": "code",
   "execution_count": 15,
   "id": "d97211d3",
   "metadata": {},
   "outputs": [
    {
     "name": "stdout",
     "output_type": "stream",
     "text": [
      "引言与综述引用文献为 [' DiMaggio and Powell 1983' ' Feldman 1984' ' Ruiter and De Graaf 2010'\n",
      " '10                                                                                                                                                                                                                                                                                                                                                                                                                                                                                                                                                                                                                                                                                                                                                                                                                                                                                                                                                                                                                                                                                                                                                                                                                                                                                                                                                                                                                                                                                                                                                                                                                                                                                                                                                                                                                                                                                                                                                                                                                                                                                                                                                                                                                                                                                                                                                                                                                                                                                                                                                                                                                                                                                                                                                                                                                                                                                                                                                                                                                                                                                                                                                                                                                                                                                                                                                                                                                                                                                                                                                                                                                                                                                                                                                                                                                                                                                                                                                                                                                                                                                                                                                                                                                                                                                                                                                                                                                                                                                                                                                                                                                               man 1982, 1990'\n",
      " '1978' '1981' '1983' '2003' '2006' '2013' '2017' 'Abbott 1997'\n",
      " 'Albert and Whetten 1985' 'Alexander et al. 1970'\n",
      " 'Alexander, Zucker, and Brody 1970' 'Aral and Van Alstyne 2011'\n",
      " 'Argote and Greve 2007' 'Ashforth and Mael 1989' 'Barber et al. 2001'\n",
      " 'Barber, Eccles, and Stone 2001' 'Bewley 1999' 'Bla-lock 1984'\n",
      " 'Bond et al. 2012' 'Bonikowski 2010' 'Borgonovi 2008'\n",
      " 'Brady, Verba, and Schlozman 1995' 'Brockner and Swap 1976'\n",
      " 'Brown, Eicher, and Petrie 1986' 'Burt 1980' 'Centola 2010'\n",
      " 'Christakis and Fowler 2007' 'Coleman, Katz, and Menzel 1966'\n",
      " 'Conell and Cohn 1995' 'Crosnoe et al. 2008' 'Dalton et al. 2003'\n",
      " 'Davis 1991' 'Dawkins [1976] 2006' 'DiMaggio and Powell 1983'\n",
      " 'DiPrete et al. 2011' 'Eccles and Barber 1999' 'Eder and Parker 1987'\n",
      " 'Ellemers, Spears, and Doosje 2002' 'Erbring and Young 1979' 'Feld 1981'\n",
      " 'Field et al. 2006' 'Frank 2009' 'Frank et al. 2008' 'Frank et al. 2013'\n",
      " 'Frank, Muller, and Mueller 2013' 'Friedkin 2001'\n",
      " 'Friedkin and Johnsen 1997' 'Friedkin and Johnsen 2011'\n",
      " 'Gavetti et al. 2007' 'Gavetti, Levinthal, and Ocasio 2007'\n",
      " 'Gioia and Poole 1984' 'Gioia et al. 2010' 'Giordano 2003'\n",
      " 'Granovetter 1995' 'HDTRA-10-1-0043' 'Hannan and Freeman 1989'\n",
      " 'Harrison and Carroll 2002' 'Hogg and Terry 2000' 'Holden 1986'\n",
      " 'Hornsey 2008' 'Ingram and Roberts 2000'\n",
      " 'Johnson, Dowd, and Ridgeway 2006' 'Kelley and De Graaf 1997'\n",
      " 'Kilduff, Elfenbein, and Staw 2010' 'Killworth et al. 1990' 'Kirke 2004'\n",
      " 'Kitts 2006' 'Kohn and Schooler 1982' 'Ku, Malhotra, and Murninghan 2005'\n",
      " 'Lazarsfeld and Merton 1954' 'Lewis, Gonzalez, and Kaufman 2012'\n",
      " 'Lim and MacGregor 2012' 'Marin 2012' 'Mark 1998' 'Mark 2003'\n",
      " 'Marsden 1987, 1988' 'Marsden and Friedkin 1993'\n",
      " 'Marsden and Gorman 2001' 'McCarty et al. 2001'\n",
      " 'McCarty, Killworth, and Rennell 2007' 'McPherson 1983' 'McPherson 2004'\n",
      " 'McPherson and Ranger-Moore 1991' 'McPherson and Rotolo 1996'\n",
      " 'McPherson, Smith-Lovin, and Cook 2001' 'Mercken et al. 2010'\n",
      " 'Moreland and Zajonc 1982' 'November 2017' 'Ouchi and Wilkins 1985'\n",
      " 'Popielarz and McPher-son 1995' 'REC-0126167' 'Roberts et al. 2008'\n",
      " 'Rogers 2003' 'Rotchford and Roberts 1982' 'Ruiter and De Graaf 2006'\n",
      " 'Saegert et al. 1973' 'Saegert, Swap, and Zajonc 1973' 'Sargent 2005'\n",
      " 'Scott 2004' 'Scott and Meyer 1994' 'Smith et al. 2014'\n",
      " 'Smith, McPherson, and Smith-Lovin 2014' 'Strang and Soule 1998'\n",
      " 'Suchman 1995' 'Sun et al. 2013' 'Swap 1977' 'Tajfel 1982' 'Um 1984'\n",
      " 'Uzzi 1997' 'Van der Meer, Te Grotenhuis, and Pelzer 2010'\n",
      " 'Walker and Zelditch 1993' 'Walker, Thomas, and Zelditch 1986'\n",
      " 'Wilson and Musick 1999' 'Zajonc 1968' 'Zel-ditch and Walker 2003'\n",
      " 'Zucker 1977']\n"
     ]
    }
   ],
   "source": [
    "l6=np.unique(l5)\n",
    "print(\"引言与综述引用文献为\",l6)"
   ]
  },
  {
   "cell_type": "code",
   "execution_count": 17,
   "id": "05df0bd2",
   "metadata": {},
   "outputs": [
    {
     "name": "stdout",
     "output_type": "stream",
     "text": [
      "引言与综述引用文献数为 120\n"
     ]
    }
   ],
   "source": [
    "print('引言与综述引用文献数为',len(l6))"
   ]
  },
  {
   "cell_type": "code",
   "execution_count": null,
   "id": "48c2ba07",
   "metadata": {},
   "outputs": [],
   "source": []
  }
 ],
 "metadata": {
  "kernelspec": {
   "display_name": "Python 3 (ipykernel)",
   "language": "python",
   "name": "python3"
  },
  "language_info": {
   "codemirror_mode": {
    "name": "ipython",
    "version": 3
   },
   "file_extension": ".py",
   "mimetype": "text/x-python",
   "name": "python",
   "nbconvert_exporter": "python",
   "pygments_lexer": "ipython3",
   "version": "3.9.7"
  }
 },
 "nbformat": 4,
 "nbformat_minor": 5
}
